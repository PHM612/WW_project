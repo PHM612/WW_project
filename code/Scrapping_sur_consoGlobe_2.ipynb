{
 "cells": [
  {
   "cell_type": "code",
   "execution_count": 1,
   "metadata": {
    "ExecuteTime": {
     "end_time": "2019-08-26T20:46:13.621370Z",
     "start_time": "2019-08-26T20:46:13.071026Z"
    }
   },
   "outputs": [],
   "source": [
    "import requests\n",
    "import pandas as pd\n",
    "from bs4 import BeautifulSoup"
   ]
  },
  {
   "cell_type": "markdown",
   "metadata": {
    "ExecuteTime": {
     "end_time": "2019-08-26T20:47:12.204091Z",
     "start_time": "2019-08-26T20:47:12.196754Z"
    }
   },
   "source": [
    "## Scrapping sur [consoGlobe](https://www.consoglobe.com/eau-virtuelle-consommation-cachee-cg) (2)"
   ]
  },
  {
   "cell_type": "code",
   "execution_count": 3,
   "metadata": {
    "ExecuteTime": {
     "end_time": "2019-08-26T20:47:54.483482Z",
     "start_time": "2019-08-26T20:47:54.473493Z"
    }
   },
   "outputs": [],
   "source": [
    "url_consoGlobe_2 = \"https://www.consoglobe.com/eau-virtuelle-consommation-cachee-cg\""
   ]
  },
  {
   "cell_type": "code",
   "execution_count": 4,
   "metadata": {
    "ExecuteTime": {
     "end_time": "2019-08-26T20:48:02.728738Z",
     "start_time": "2019-08-26T20:48:02.723360Z"
    }
   },
   "outputs": [],
   "source": [
    "# User-Agent is UNIQUE to every internet user\n",
    "header = {\"User-Agent\": \"Mozilla/5.0 (X11; Linux x86_64) AppleWebKit/537.36 (KHTML, like Gecko) Chrome/76.0.3809.100 Safari/537.36\"}"
   ]
  },
  {
   "cell_type": "code",
   "execution_count": 5,
   "metadata": {
    "ExecuteTime": {
     "end_time": "2019-08-26T20:48:19.983260Z",
     "start_time": "2019-08-26T20:48:19.072937Z"
    }
   },
   "outputs": [],
   "source": [
    "response_consoGlobe_2 = requests.get(url_consoGlobe_2, headers = header)"
   ]
  },
  {
   "cell_type": "code",
   "execution_count": 6,
   "metadata": {
    "ExecuteTime": {
     "end_time": "2019-08-26T20:48:41.796165Z",
     "start_time": "2019-08-26T20:48:41.648921Z"
    }
   },
   "outputs": [],
   "source": [
    "soup_consoGlobe_2 = BeautifulSoup(response_consoGlobe_2.text, 'html.parser')"
   ]
  },
  {
   "cell_type": "code",
   "execution_count": 7,
   "metadata": {
    "ExecuteTime": {
     "end_time": "2019-08-26T20:49:44.940415Z",
     "start_time": "2019-08-26T20:49:44.910024Z"
    }
   },
   "outputs": [],
   "source": [
    "text = [s.get_text() for s in soup_consoGlobe_2.find_all('div', {'class': 'entry-content'})[0].find_all('li')]"
   ]
  },
  {
   "cell_type": "code",
   "execution_count": 8,
   "metadata": {
    "ExecuteTime": {
     "end_time": "2019-08-26T20:49:48.533466Z",
     "start_time": "2019-08-26T20:49:48.504438Z"
    }
   },
   "outputs": [
    {
     "data": {
      "text/plain": [
       "['Tous les produits de consommation sont concernés car tout nécessite de l’eau. La fabrication des biens nécessite de l’eau, une quantité invisible à laquelle on ne pense pas. Ces quantités d’eau indispensables à la production des biens de consommation sont appelées eau virtuelle.',\n",
       " 'Les produits agricoles sont les premiers consommateurs. Pour produire 1 tonne de céréales, il faut 1.000 mètres cubes d’eau qui peuvent provenir soit de la pluie, des nappes phréatiques, les cours d’eau ou de l’humidité du sol.',\n",
       " '9.982 litres d\\xa0»eau pour 1 jeans',\n",
       " '5.260 litres d’eau pour 1 kilo de coton ',\n",
       " '238 litres d’eau virtuelle /kg de maïs ensilage',\n",
       " '454 litres d’eau virtuelle kg de maïs grain',\n",
       " '524 litres d’eau virtuelle pour 1 kg d’orge',\n",
       " '590 litres/kg de pomme de terre',\n",
       " '590 litres/kg de blé',\n",
       " '590 litres/kg de soja',\n",
       " '1.600 litres/kg de riz pluvial',\n",
       " '5.000 litres/kg de riz inondé',\n",
       " '5.263 litres/kg de coton',\n",
       " 'Usage domestique\\xa0: 350 mds de litres',\n",
       " 'Agriculture\\xa0: 2.500 mds de litres',\n",
       " 'Industrie\\xa0: 750 mds de litres',\n",
       " '1 euro de blé ou de coton = 5.000 litres d’eau virtuelle',\n",
       " '1 euro de fruit =\\xa0 1.820 litres',\n",
       " '1 euro de sucre = 1.022 litres',\n",
       " '1 euro de nourriture pour chien = 750 litres',\n",
       " '1 euro de lait ou de tortillas = 530 litres',\n",
       " \"10 gestes pour faire des économies d'eau\",\n",
       " 'Laserre et Descroix, 2002\\xa0(Cliquez sur cette source pour remonter)',\n",
       " 'Source:PNAS\\xa0(Cliquez sur cette source pour remonter)',\n",
       " 'Source\\xa0\\xa0: waterfootprint.org\\xa0(Cliquez sur cette source pour remonter)',\n",
       " 'Source\\xa0\\xa0: CNRS\\xa0(Cliquez sur cette source pour remonter)',\n",
       " 'https://waterfootprint.org/\\xa0(Cliquez sur cette source pour remonter)',\n",
       " 'https://www.wearewater.org\\xa0(Cliquez sur cette source pour remonter)']"
      ]
     },
     "execution_count": 8,
     "metadata": {},
     "output_type": "execute_result"
    }
   ],
   "source": [
    "text"
   ]
  },
  {
   "cell_type": "code",
   "execution_count": 59,
   "metadata": {
    "ExecuteTime": {
     "end_time": "2019-08-26T21:15:44.430282Z",
     "start_time": "2019-08-26T21:15:44.416539Z"
    }
   },
   "outputs": [],
   "source": [
    "eau_virtuelle = []\n",
    "produit = []\n",
    "for t in text: \n",
    "    if \"litre\" in t and \"euro\" not in t and \"mds\" not in t:\n",
    "        eau_virtuelle.append(int(t.split(\"litres\")[0].replace(\".\", \"\").strip()))\n",
    "        produit.append(\"1 \" + t.split(\"litres\")[1].replace(\"/kg\", \"1 kg\").replace(\"kilo\", \"kg\").replace(\"kg de maïs grain\", \"1 kg de maïs grain\").split(\"1 \")[1])"
   ]
  },
  {
   "cell_type": "code",
   "execution_count": 61,
   "metadata": {
    "ExecuteTime": {
     "end_time": "2019-08-26T21:16:02.073240Z",
     "start_time": "2019-08-26T21:16:02.049426Z"
    }
   },
   "outputs": [
    {
     "data": {
      "text/plain": [
       "[9982, 5260, 238, 454, 524, 590, 590, 590, 1600, 5000, 5263]"
      ]
     },
     "execution_count": 61,
     "metadata": {},
     "output_type": "execute_result"
    }
   ],
   "source": [
    "eau_virtuelle"
   ]
  },
  {
   "cell_type": "code",
   "execution_count": 60,
   "metadata": {
    "ExecuteTime": {
     "end_time": "2019-08-26T21:15:46.198339Z",
     "start_time": "2019-08-26T21:15:46.179009Z"
    },
    "scrolled": true
   },
   "outputs": [
    {
     "data": {
      "text/plain": [
       "['1 jeans',\n",
       " '1 kg de coton ',\n",
       " '1 kg de maïs ensilage',\n",
       " '1 kg de maïs grain',\n",
       " '1 kg d’orge',\n",
       " '1 kg de pomme de terre',\n",
       " '1 kg de blé',\n",
       " '1 kg de soja',\n",
       " '1 kg de riz pluvial',\n",
       " '1 kg de riz inondé',\n",
       " '1 kg de coton']"
      ]
     },
     "execution_count": 60,
     "metadata": {},
     "output_type": "execute_result"
    }
   ],
   "source": [
    "produit"
   ]
  },
  {
   "cell_type": "code",
   "execution_count": 62,
   "metadata": {
    "ExecuteTime": {
     "end_time": "2019-08-26T21:16:54.679510Z",
     "start_time": "2019-08-26T21:16:54.629692Z"
    }
   },
   "outputs": [],
   "source": [
    "df_consommation_2 = pd.DataFrame(zip(produit, eau_virtuelle, [\"consoglobe.com\"]*len(eau_virtuelle)), columns=[\"Produit de consommation\", \"Eau virtuelle (litres)\", \"Source\"])"
   ]
  },
  {
   "cell_type": "code",
   "execution_count": 63,
   "metadata": {
    "ExecuteTime": {
     "end_time": "2019-08-26T21:17:00.437975Z",
     "start_time": "2019-08-26T21:17:00.379788Z"
    }
   },
   "outputs": [
    {
     "data": {
      "text/html": [
       "<div>\n",
       "<style scoped>\n",
       "    .dataframe tbody tr th:only-of-type {\n",
       "        vertical-align: middle;\n",
       "    }\n",
       "\n",
       "    .dataframe tbody tr th {\n",
       "        vertical-align: top;\n",
       "    }\n",
       "\n",
       "    .dataframe thead th {\n",
       "        text-align: right;\n",
       "    }\n",
       "</style>\n",
       "<table border=\"1\" class=\"dataframe\">\n",
       "  <thead>\n",
       "    <tr style=\"text-align: right;\">\n",
       "      <th></th>\n",
       "      <th>Produit de consommation</th>\n",
       "      <th>Eau virtuelle (litres)</th>\n",
       "      <th>Source</th>\n",
       "    </tr>\n",
       "  </thead>\n",
       "  <tbody>\n",
       "    <tr>\n",
       "      <th>0</th>\n",
       "      <td>1 jeans</td>\n",
       "      <td>9982</td>\n",
       "      <td>consoglobe.com</td>\n",
       "    </tr>\n",
       "    <tr>\n",
       "      <th>1</th>\n",
       "      <td>1 kg de coton</td>\n",
       "      <td>5260</td>\n",
       "      <td>consoglobe.com</td>\n",
       "    </tr>\n",
       "    <tr>\n",
       "      <th>2</th>\n",
       "      <td>1 kg de maïs ensilage</td>\n",
       "      <td>238</td>\n",
       "      <td>consoglobe.com</td>\n",
       "    </tr>\n",
       "    <tr>\n",
       "      <th>3</th>\n",
       "      <td>1 kg de maïs grain</td>\n",
       "      <td>454</td>\n",
       "      <td>consoglobe.com</td>\n",
       "    </tr>\n",
       "    <tr>\n",
       "      <th>4</th>\n",
       "      <td>1 kg d’orge</td>\n",
       "      <td>524</td>\n",
       "      <td>consoglobe.com</td>\n",
       "    </tr>\n",
       "    <tr>\n",
       "      <th>5</th>\n",
       "      <td>1 kg de pomme de terre</td>\n",
       "      <td>590</td>\n",
       "      <td>consoglobe.com</td>\n",
       "    </tr>\n",
       "    <tr>\n",
       "      <th>6</th>\n",
       "      <td>1 kg de blé</td>\n",
       "      <td>590</td>\n",
       "      <td>consoglobe.com</td>\n",
       "    </tr>\n",
       "    <tr>\n",
       "      <th>7</th>\n",
       "      <td>1 kg de soja</td>\n",
       "      <td>590</td>\n",
       "      <td>consoglobe.com</td>\n",
       "    </tr>\n",
       "    <tr>\n",
       "      <th>8</th>\n",
       "      <td>1 kg de riz pluvial</td>\n",
       "      <td>1600</td>\n",
       "      <td>consoglobe.com</td>\n",
       "    </tr>\n",
       "    <tr>\n",
       "      <th>9</th>\n",
       "      <td>1 kg de riz inondé</td>\n",
       "      <td>5000</td>\n",
       "      <td>consoglobe.com</td>\n",
       "    </tr>\n",
       "    <tr>\n",
       "      <th>10</th>\n",
       "      <td>1 kg de coton</td>\n",
       "      <td>5263</td>\n",
       "      <td>consoglobe.com</td>\n",
       "    </tr>\n",
       "  </tbody>\n",
       "</table>\n",
       "</div>"
      ],
      "text/plain": [
       "   Produit de consommation  Eau virtuelle (litres)          Source\n",
       "0                  1 jeans                    9982  consoglobe.com\n",
       "1           1 kg de coton                     5260  consoglobe.com\n",
       "2    1 kg de maïs ensilage                     238  consoglobe.com\n",
       "3       1 kg de maïs grain                     454  consoglobe.com\n",
       "4              1 kg d’orge                     524  consoglobe.com\n",
       "5   1 kg de pomme de terre                     590  consoglobe.com\n",
       "6              1 kg de blé                     590  consoglobe.com\n",
       "7             1 kg de soja                     590  consoglobe.com\n",
       "8      1 kg de riz pluvial                    1600  consoglobe.com\n",
       "9       1 kg de riz inondé                    5000  consoglobe.com\n",
       "10           1 kg de coton                    5263  consoglobe.com"
      ]
     },
     "execution_count": 63,
     "metadata": {},
     "output_type": "execute_result"
    }
   ],
   "source": [
    "df_consommation_2"
   ]
  }
 ],
 "metadata": {
  "kernelspec": {
   "display_name": "Python 3",
   "language": "python",
   "name": "python3"
  },
  "language_info": {
   "codemirror_mode": {
    "name": "ipython",
    "version": 3
   },
   "file_extension": ".py",
   "mimetype": "text/x-python",
   "name": "python",
   "nbconvert_exporter": "python",
   "pygments_lexer": "ipython3",
   "version": "3.7.3"
  }
 },
 "nbformat": 4,
 "nbformat_minor": 2
}
