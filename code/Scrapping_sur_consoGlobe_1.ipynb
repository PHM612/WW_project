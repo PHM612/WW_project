{
 "cells": [
  {
   "cell_type": "code",
   "execution_count": 1,
   "metadata": {
    "ExecuteTime": {
     "end_time": "2019-08-26T20:40:56.119942Z",
     "start_time": "2019-08-26T20:40:55.522143Z"
    }
   },
   "outputs": [],
   "source": [
    "import re\n",
    "import requests\n",
    "import pandas as pd\n",
    "from bs4 import BeautifulSoup"
   ]
  },
  {
   "cell_type": "markdown",
   "metadata": {
    "ExecuteTime": {
     "end_time": "2019-08-26T17:57:19.766508Z",
     "start_time": "2019-08-26T17:57:19.762062Z"
    }
   },
   "source": [
    "## Scrapping sur [consoGlobe](https://www.consoglobe.com/eau-virtuelle-conflit-3120-cg) (1)"
   ]
  },
  {
   "cell_type": "code",
   "execution_count": 2,
   "metadata": {
    "ExecuteTime": {
     "end_time": "2019-08-26T20:40:56.129780Z",
     "start_time": "2019-08-26T20:40:56.124080Z"
    }
   },
   "outputs": [],
   "source": [
    "url_consoGlobe_1 = \"https://www.consoglobe.com/eau-virtuelle-conflit-3120-cg\""
   ]
  },
  {
   "cell_type": "code",
   "execution_count": 3,
   "metadata": {
    "ExecuteTime": {
     "end_time": "2019-08-26T20:40:56.145478Z",
     "start_time": "2019-08-26T20:40:56.139260Z"
    }
   },
   "outputs": [],
   "source": [
    "# User-Agent is UNIQUE to every internet user\n",
    "header = {\"User-Agent\": \"Mozilla/5.0 (X11; Linux x86_64) AppleWebKit/537.36 (KHTML, like Gecko) Chrome/76.0.3809.100 Safari/537.36\"}"
   ]
  },
  {
   "cell_type": "code",
   "execution_count": 4,
   "metadata": {
    "ExecuteTime": {
     "end_time": "2019-08-26T20:40:57.008056Z",
     "start_time": "2019-08-26T20:40:56.150953Z"
    }
   },
   "outputs": [],
   "source": [
    "response_consoGlobe_1 = requests.get(url_consoGlobe_1, headers = header)"
   ]
  },
  {
   "cell_type": "code",
   "execution_count": 5,
   "metadata": {
    "ExecuteTime": {
     "end_time": "2019-08-26T20:40:57.086344Z",
     "start_time": "2019-08-26T20:40:57.012066Z"
    }
   },
   "outputs": [],
   "source": [
    "soup_consoGlobe_1 = BeautifulSoup(response_consoGlobe_1.text, 'html.parser')"
   ]
  },
  {
   "cell_type": "code",
   "execution_count": 6,
   "metadata": {
    "ExecuteTime": {
     "end_time": "2019-08-26T20:40:57.098983Z",
     "start_time": "2019-08-26T20:40:57.088642Z"
    }
   },
   "outputs": [],
   "source": [
    "text = [s.get_text() for s in soup_consoGlobe_1.find_all('div', {'class': 'entry-content'})[0].find_all('li')]"
   ]
  },
  {
   "cell_type": "code",
   "execution_count": 7,
   "metadata": {
    "ExecuteTime": {
     "end_time": "2019-08-26T20:40:57.141811Z",
     "start_time": "2019-08-26T20:40:57.101590Z"
    },
    "scrolled": false
   },
   "outputs": [
    {
     "data": {
      "text/plain": [
       "['10 litres= 1 feuille de papier A4',\n",
       " '30 litres= 1 tasse de thé',\n",
       " '50 litres= 1 orange',\n",
       " '140 litres= 1 tasse de café',\n",
       " '200 litres= 1 oeuf',\n",
       " '1000 litres= 1 litre de lait',\n",
       " '1500 litres= 1 kg de sucre de canne',\n",
       " '2700 litres= 1 tee-shirt en coton',\n",
       " '1 kg de boeuf \\xa0 15 500 litres d’eau virtuelle',\n",
       " '1 kg de fromage \\xa0 5 000 litres d’eau virtuelle',\n",
       " '1 kg de coton \\xa0 5 260 litres d’eau virtuelle',\n",
       " '5 804 litres d’eau sont nécessaires pour cuisiner un simple «\\xa0wonton\\xa0» chinois.',\n",
       " '1 kg de poulet 3 900',\n",
       " '1 chandail de coton 2 700']"
      ]
     },
     "execution_count": 7,
     "metadata": {},
     "output_type": "execute_result"
    }
   ],
   "source": [
    "text[1:-1]"
   ]
  },
  {
   "cell_type": "code",
   "execution_count": 8,
   "metadata": {
    "ExecuteTime": {
     "end_time": "2019-08-26T20:40:57.174757Z",
     "start_time": "2019-08-26T20:40:57.146753Z"
    }
   },
   "outputs": [],
   "source": [
    "delimiter_words = (\"= \", \" \\xa0 \", \" sont nécessaires pour cuisiner \")\n",
    "regex = r\"\\b(?:{})\\b\".format(\"|\".join(delimiter_words))\n",
    "eau_virtuelle = []\n",
    "produit = []\n",
    "for t in text[1:-1]:\n",
    "    if \"litre\" in t:\n",
    "        if int(t.split()[0]) > 1:\n",
    "            eau_virtuelle.append([r.strip().replace(' litres d’eau virtuelle', '').replace(' litres d’eau', '').replace(' litres', '').replace(' ', '') for r in re.split(regex, t)][0])\n",
    "            produit.append([r.strip().replace('\\xa0', ' ').replace('un', '1').replace('.', '') for r in re.split(regex, t)][1])\n",
    "        else:\n",
    "            eau_virtuelle.append([r.replace(' litres d’eau virtuelle', '').replace(' ', '') for r in re.split(regex, t)][1])\n",
    "            produit.append([r.strip().replace('\\xa0', ' ') for r in re.split(regex, t)][0])\n",
    "    else:\n",
    "        eau_virtuelle.append(('').join(t.split()[-2:]))\n",
    "        produit.append((' ').join(t.split()[:-2]))"
   ]
  },
  {
   "cell_type": "code",
   "execution_count": 9,
   "metadata": {
    "ExecuteTime": {
     "end_time": "2019-08-26T20:40:57.199032Z",
     "start_time": "2019-08-26T20:40:57.179303Z"
    },
    "scrolled": true
   },
   "outputs": [
    {
     "data": {
      "text/plain": [
       "[10, 30, 50, 140, 200, 1000, 1500, 2700, 15500, 5000, 5260, 5804, 3900, 2700]"
      ]
     },
     "execution_count": 9,
     "metadata": {},
     "output_type": "execute_result"
    }
   ],
   "source": [
    "eau_virtuelle = [int(e) for e in eau_virtuelle]\n",
    "eau_virtuelle"
   ]
  },
  {
   "cell_type": "code",
   "execution_count": 10,
   "metadata": {
    "ExecuteTime": {
     "end_time": "2019-08-26T20:40:57.219236Z",
     "start_time": "2019-08-26T20:40:57.203968Z"
    },
    "scrolled": false
   },
   "outputs": [
    {
     "data": {
      "text/plain": [
       "['1 feuille de papier A4',\n",
       " '1 tasse de thé',\n",
       " '1 orange',\n",
       " '1 tasse de café',\n",
       " '1 oeuf',\n",
       " '1 litre de lait',\n",
       " '1 kg de sucre de canne',\n",
       " '1 tee-shirt en coton',\n",
       " '1 kg de boeuf',\n",
       " '1 kg de fromage',\n",
       " '1 kg de coton',\n",
       " '1 simple « wonton » chinois',\n",
       " '1 kg de poulet',\n",
       " '1 chandail de coton']"
      ]
     },
     "execution_count": 10,
     "metadata": {},
     "output_type": "execute_result"
    }
   ],
   "source": [
    "produit"
   ]
  },
  {
   "cell_type": "code",
   "execution_count": 11,
   "metadata": {
    "ExecuteTime": {
     "end_time": "2019-08-26T20:40:57.243163Z",
     "start_time": "2019-08-26T20:40:57.225553Z"
    }
   },
   "outputs": [],
   "source": [
    "df_consommation_1 = pd.DataFrame(zip(produit, eau_virtuelle, [\"consoglobe.com\"]*len(eau_virtuelle)), columns=[\"Produit de consommation\", \"Eau virtuelle (litres)\", \"Source\"])"
   ]
  },
  {
   "cell_type": "code",
   "execution_count": 12,
   "metadata": {
    "ExecuteTime": {
     "end_time": "2019-08-26T20:40:57.276456Z",
     "start_time": "2019-08-26T20:40:57.246727Z"
    }
   },
   "outputs": [
    {
     "data": {
      "text/html": [
       "<div>\n",
       "<style scoped>\n",
       "    .dataframe tbody tr th:only-of-type {\n",
       "        vertical-align: middle;\n",
       "    }\n",
       "\n",
       "    .dataframe tbody tr th {\n",
       "        vertical-align: top;\n",
       "    }\n",
       "\n",
       "    .dataframe thead th {\n",
       "        text-align: right;\n",
       "    }\n",
       "</style>\n",
       "<table border=\"1\" class=\"dataframe\">\n",
       "  <thead>\n",
       "    <tr style=\"text-align: right;\">\n",
       "      <th></th>\n",
       "      <th>Produit de consommation</th>\n",
       "      <th>Eau virtuelle (litres)</th>\n",
       "      <th>Source</th>\n",
       "    </tr>\n",
       "  </thead>\n",
       "  <tbody>\n",
       "    <tr>\n",
       "      <th>0</th>\n",
       "      <td>1 feuille de papier A4</td>\n",
       "      <td>10</td>\n",
       "      <td>consoglobe.com</td>\n",
       "    </tr>\n",
       "    <tr>\n",
       "      <th>1</th>\n",
       "      <td>1 tasse de thé</td>\n",
       "      <td>30</td>\n",
       "      <td>consoglobe.com</td>\n",
       "    </tr>\n",
       "    <tr>\n",
       "      <th>2</th>\n",
       "      <td>1 orange</td>\n",
       "      <td>50</td>\n",
       "      <td>consoglobe.com</td>\n",
       "    </tr>\n",
       "    <tr>\n",
       "      <th>3</th>\n",
       "      <td>1 tasse de café</td>\n",
       "      <td>140</td>\n",
       "      <td>consoglobe.com</td>\n",
       "    </tr>\n",
       "    <tr>\n",
       "      <th>4</th>\n",
       "      <td>1 oeuf</td>\n",
       "      <td>200</td>\n",
       "      <td>consoglobe.com</td>\n",
       "    </tr>\n",
       "    <tr>\n",
       "      <th>5</th>\n",
       "      <td>1 litre de lait</td>\n",
       "      <td>1000</td>\n",
       "      <td>consoglobe.com</td>\n",
       "    </tr>\n",
       "    <tr>\n",
       "      <th>6</th>\n",
       "      <td>1 kg de sucre de canne</td>\n",
       "      <td>1500</td>\n",
       "      <td>consoglobe.com</td>\n",
       "    </tr>\n",
       "    <tr>\n",
       "      <th>7</th>\n",
       "      <td>1 tee-shirt en coton</td>\n",
       "      <td>2700</td>\n",
       "      <td>consoglobe.com</td>\n",
       "    </tr>\n",
       "    <tr>\n",
       "      <th>8</th>\n",
       "      <td>1 kg de boeuf</td>\n",
       "      <td>15500</td>\n",
       "      <td>consoglobe.com</td>\n",
       "    </tr>\n",
       "    <tr>\n",
       "      <th>9</th>\n",
       "      <td>1 kg de fromage</td>\n",
       "      <td>5000</td>\n",
       "      <td>consoglobe.com</td>\n",
       "    </tr>\n",
       "    <tr>\n",
       "      <th>10</th>\n",
       "      <td>1 kg de coton</td>\n",
       "      <td>5260</td>\n",
       "      <td>consoglobe.com</td>\n",
       "    </tr>\n",
       "    <tr>\n",
       "      <th>11</th>\n",
       "      <td>1 simple « wonton » chinois</td>\n",
       "      <td>5804</td>\n",
       "      <td>consoglobe.com</td>\n",
       "    </tr>\n",
       "    <tr>\n",
       "      <th>12</th>\n",
       "      <td>1 kg de poulet</td>\n",
       "      <td>3900</td>\n",
       "      <td>consoglobe.com</td>\n",
       "    </tr>\n",
       "    <tr>\n",
       "      <th>13</th>\n",
       "      <td>1 chandail de coton</td>\n",
       "      <td>2700</td>\n",
       "      <td>consoglobe.com</td>\n",
       "    </tr>\n",
       "  </tbody>\n",
       "</table>\n",
       "</div>"
      ],
      "text/plain": [
       "        Produit de consommation  Eau virtuelle (litres)          Source\n",
       "0        1 feuille de papier A4                      10  consoglobe.com\n",
       "1                1 tasse de thé                      30  consoglobe.com\n",
       "2                      1 orange                      50  consoglobe.com\n",
       "3               1 tasse de café                     140  consoglobe.com\n",
       "4                        1 oeuf                     200  consoglobe.com\n",
       "5               1 litre de lait                    1000  consoglobe.com\n",
       "6        1 kg de sucre de canne                    1500  consoglobe.com\n",
       "7          1 tee-shirt en coton                    2700  consoglobe.com\n",
       "8                 1 kg de boeuf                   15500  consoglobe.com\n",
       "9               1 kg de fromage                    5000  consoglobe.com\n",
       "10                1 kg de coton                    5260  consoglobe.com\n",
       "11  1 simple « wonton » chinois                    5804  consoglobe.com\n",
       "12               1 kg de poulet                    3900  consoglobe.com\n",
       "13          1 chandail de coton                    2700  consoglobe.com"
      ]
     },
     "execution_count": 12,
     "metadata": {},
     "output_type": "execute_result"
    }
   ],
   "source": [
    "df_consommation_1"
   ]
  }
 ],
 "metadata": {
  "kernelspec": {
   "display_name": "Python 3",
   "language": "python",
   "name": "python3"
  },
  "language_info": {
   "codemirror_mode": {
    "name": "ipython",
    "version": 3
   },
   "file_extension": ".py",
   "mimetype": "text/x-python",
   "name": "python",
   "nbconvert_exporter": "python",
   "pygments_lexer": "ipython3",
   "version": "3.7.3"
  }
 },
 "nbformat": 4,
 "nbformat_minor": 2
}
