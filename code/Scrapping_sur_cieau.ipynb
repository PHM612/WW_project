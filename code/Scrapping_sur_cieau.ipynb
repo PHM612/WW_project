{
 "cells": [
  {
   "cell_type": "code",
   "execution_count": 1,
   "metadata": {
    "ExecuteTime": {
     "end_time": "2019-08-19T22:12:06.516653Z",
     "start_time": "2019-08-19T22:12:05.560403Z"
    }
   },
   "outputs": [],
   "source": [
    "import requests\n",
    "import pandas as pd\n",
    "import numpy as np\n",
    "from bs4 import BeautifulSoup"
   ]
  },
  {
   "cell_type": "markdown",
   "metadata": {
    "ExecuteTime": {
     "end_time": "2019-08-19T19:24:18.597462Z",
     "start_time": "2019-08-19T19:24:18.593667Z"
    }
   },
   "source": [
    "## Scrapping sur [cieau](https://www.cieau.com/)"
   ]
  },
  {
   "cell_type": "code",
   "execution_count": 2,
   "metadata": {
    "ExecuteTime": {
     "end_time": "2019-08-19T22:12:06.524626Z",
     "start_time": "2019-08-19T22:12:06.520162Z"
    }
   },
   "outputs": [],
   "source": [
    "url_cieau = \"https://www.cieau.com/le-metier-de-leau/ressource-en-eau-eau-potable-eaux-usees/la-consommation-deau-domestique-est-elle-la-meme-a-travers-le-monde/\""
   ]
  },
  {
   "cell_type": "code",
   "execution_count": 18,
   "metadata": {
    "ExecuteTime": {
     "end_time": "2019-08-19T22:18:13.935131Z",
     "start_time": "2019-08-19T22:18:13.924549Z"
    }
   },
   "outputs": [],
   "source": [
    "# User-Agent is UNIQUE to every internet user\n",
    "header = {\"User-Agent\": \"Mozilla/5.0 (X11; Linux x86_64) AppleWebKit/537.36 (KHTML, like Gecko) Chrome/76.0.3809.100 Safari/537.36\"}"
   ]
  },
  {
   "cell_type": "code",
   "execution_count": 4,
   "metadata": {
    "ExecuteTime": {
     "end_time": "2019-08-19T22:12:06.745339Z",
     "start_time": "2019-08-19T22:12:06.542276Z"
    }
   },
   "outputs": [],
   "source": [
    "response_cieau = requests.get(url_cieau, headers = header)"
   ]
  },
  {
   "cell_type": "code",
   "execution_count": 5,
   "metadata": {
    "ExecuteTime": {
     "end_time": "2019-08-19T22:12:06.878215Z",
     "start_time": "2019-08-19T22:12:06.750743Z"
    }
   },
   "outputs": [],
   "source": [
    "soup_cieau = BeautifulSoup(response_cieau.text, 'html.parser')"
   ]
  },
  {
   "cell_type": "code",
   "execution_count": 6,
   "metadata": {
    "ExecuteTime": {
     "end_time": "2019-08-19T22:12:06.928293Z",
     "start_time": "2019-08-19T22:12:06.883536Z"
    }
   },
   "outputs": [],
   "source": [
    "text = [s.get_text() for s in soup_cieau.find_all('div', {'class': 'contenu'})[-1].find_all('li')]"
   ]
  },
  {
   "cell_type": "code",
   "execution_count": 7,
   "metadata": {
    "ExecuteTime": {
     "end_time": "2019-08-19T22:12:06.953483Z",
     "start_time": "2019-08-19T22:12:06.931418Z"
    }
   },
   "outputs": [
    {
     "data": {
      "text/plain": [
       "['Canada, Etats-Unis, Japon, Australie, Suisse : supérieur à 250 litres / personne / jour',\n",
       " 'Finlande, Italie, Espagne, Portugal, Corée du sud, Grèce, Suède :\\xa0de 160 à 250 litres / personne / jour',\n",
       " 'Danemark, Royaume-Uni, Autriche, France, Luxembourg, Irlande : de 130 à 160 litres / personne / jour',\n",
       " 'Allemagne, Pays-Bas, Belgique, Hongrie, Bulgarie, Pologne, République Tchèque :\\xa0inférieur à 130 litres / personne / jour',\n",
       " 'Asie et Amérique Latine : de 50 à 100 litres / personne / jour',\n",
       " 'Afrique Sub-Saharienne : de 10 à 20 litres / personne / jour']"
      ]
     },
     "execution_count": 7,
     "metadata": {},
     "output_type": "execute_result"
    }
   ],
   "source": [
    "text"
   ]
  },
  {
   "cell_type": "code",
   "execution_count": 8,
   "metadata": {
    "ExecuteTime": {
     "end_time": "2019-08-19T22:12:06.980706Z",
     "start_time": "2019-08-19T22:12:06.963227Z"
    }
   },
   "outputs": [],
   "source": [
    "countries = []\n",
    "consumptions = []\n",
    "for t in text:\n",
    "    countries.append(t.replace(\" et \", \", \").split(\":\")[0].strip())\n",
    "    consumptions.append(t.split(\":\")[1].strip().replace(\" litres / personne / jour\", \"\"))"
   ]
  },
  {
   "cell_type": "code",
   "execution_count": 9,
   "metadata": {
    "ExecuteTime": {
     "end_time": "2019-08-19T22:12:07.006546Z",
     "start_time": "2019-08-19T22:12:06.985686Z"
    },
    "scrolled": true
   },
   "outputs": [
    {
     "data": {
      "text/plain": [
       "['Canada, Etats-Unis, Japon, Australie, Suisse',\n",
       " 'Finlande, Italie, Espagne, Portugal, Corée du sud, Grèce, Suède',\n",
       " 'Danemark, Royaume-Uni, Autriche, France, Luxembourg, Irlande',\n",
       " 'Allemagne, Pays-Bas, Belgique, Hongrie, Bulgarie, Pologne, République Tchèque',\n",
       " 'Asie, Amérique Latine',\n",
       " 'Afrique Sub-Saharienne']"
      ]
     },
     "execution_count": 9,
     "metadata": {},
     "output_type": "execute_result"
    }
   ],
   "source": [
    "countries"
   ]
  },
  {
   "cell_type": "code",
   "execution_count": 10,
   "metadata": {
    "ExecuteTime": {
     "end_time": "2019-08-19T22:12:07.023722Z",
     "start_time": "2019-08-19T22:12:07.011608Z"
    }
   },
   "outputs": [
    {
     "data": {
      "text/plain": [
       "['supérieur à 250',\n",
       " 'de 160 à 250',\n",
       " 'de 130 à 160',\n",
       " 'inférieur à 130',\n",
       " 'de 50 à 100',\n",
       " 'de 10 à 20']"
      ]
     },
     "execution_count": 10,
     "metadata": {},
     "output_type": "execute_result"
    }
   ],
   "source": [
    "consumptions"
   ]
  },
  {
   "cell_type": "code",
   "execution_count": 11,
   "metadata": {
    "ExecuteTime": {
     "end_time": "2019-08-19T22:12:07.034719Z",
     "start_time": "2019-08-19T22:12:07.028881Z"
    }
   },
   "outputs": [],
   "source": [
    "list_countries = []\n",
    "for c in countries:\n",
    "    list_countries += c.split(\", \")"
   ]
  },
  {
   "cell_type": "code",
   "execution_count": 12,
   "metadata": {
    "ExecuteTime": {
     "end_time": "2019-08-19T22:12:07.053876Z",
     "start_time": "2019-08-19T22:12:07.038551Z"
    }
   },
   "outputs": [
    {
     "data": {
      "text/plain": [
       "['Canada',\n",
       " 'Etats-Unis',\n",
       " 'Japon',\n",
       " 'Australie',\n",
       " 'Suisse',\n",
       " 'Finlande',\n",
       " 'Italie',\n",
       " 'Espagne',\n",
       " 'Portugal',\n",
       " 'Corée du sud',\n",
       " 'Grèce',\n",
       " 'Suède',\n",
       " 'Danemark',\n",
       " 'Royaume-Uni',\n",
       " 'Autriche',\n",
       " 'France',\n",
       " 'Luxembourg',\n",
       " 'Irlande',\n",
       " 'Allemagne',\n",
       " 'Pays-Bas',\n",
       " 'Belgique',\n",
       " 'Hongrie',\n",
       " 'Bulgarie',\n",
       " 'Pologne',\n",
       " 'République Tchèque',\n",
       " 'Asie',\n",
       " 'Amérique Latine',\n",
       " 'Afrique Sub-Saharienne']"
      ]
     },
     "execution_count": 12,
     "metadata": {},
     "output_type": "execute_result"
    }
   ],
   "source": [
    "list_countries"
   ]
  },
  {
   "cell_type": "code",
   "execution_count": 13,
   "metadata": {
    "ExecuteTime": {
     "end_time": "2019-08-19T22:12:07.067063Z",
     "start_time": "2019-08-19T22:12:07.058775Z"
    }
   },
   "outputs": [],
   "source": [
    "list_consumptions = []\n",
    "for i in range(len(consumptions)):\n",
    "    for j in range(len(countries[i].split(\", \"))):\n",
    "        list_consumptions.append(consumptions[i])"
   ]
  },
  {
   "cell_type": "code",
   "execution_count": 14,
   "metadata": {
    "ExecuteTime": {
     "end_time": "2019-08-19T22:12:07.089616Z",
     "start_time": "2019-08-19T22:12:07.071788Z"
    },
    "scrolled": true
   },
   "outputs": [
    {
     "data": {
      "text/plain": [
       "['supérieur à 250',\n",
       " 'supérieur à 250',\n",
       " 'supérieur à 250',\n",
       " 'supérieur à 250',\n",
       " 'supérieur à 250',\n",
       " 'de 160 à 250',\n",
       " 'de 160 à 250',\n",
       " 'de 160 à 250',\n",
       " 'de 160 à 250',\n",
       " 'de 160 à 250',\n",
       " 'de 160 à 250',\n",
       " 'de 160 à 250',\n",
       " 'de 130 à 160',\n",
       " 'de 130 à 160',\n",
       " 'de 130 à 160',\n",
       " 'de 130 à 160',\n",
       " 'de 130 à 160',\n",
       " 'de 130 à 160',\n",
       " 'inférieur à 130',\n",
       " 'inférieur à 130',\n",
       " 'inférieur à 130',\n",
       " 'inférieur à 130',\n",
       " 'inférieur à 130',\n",
       " 'inférieur à 130',\n",
       " 'inférieur à 130',\n",
       " 'de 50 à 100',\n",
       " 'de 50 à 100',\n",
       " 'de 10 à 20']"
      ]
     },
     "execution_count": 14,
     "metadata": {},
     "output_type": "execute_result"
    }
   ],
   "source": [
    "list_consumptions"
   ]
  },
  {
   "cell_type": "code",
   "execution_count": 16,
   "metadata": {
    "ExecuteTime": {
     "end_time": "2019-08-19T22:14:10.296444Z",
     "start_time": "2019-08-19T22:14:10.244181Z"
    },
    "scrolled": false
   },
   "outputs": [
    {
     "data": {
      "text/html": [
       "<div>\n",
       "<style scoped>\n",
       "    .dataframe tbody tr th:only-of-type {\n",
       "        vertical-align: middle;\n",
       "    }\n",
       "\n",
       "    .dataframe tbody tr th {\n",
       "        vertical-align: top;\n",
       "    }\n",
       "\n",
       "    .dataframe thead th {\n",
       "        text-align: right;\n",
       "    }\n",
       "</style>\n",
       "<table border=\"1\" class=\"dataframe\">\n",
       "  <thead>\n",
       "    <tr style=\"text-align: right;\">\n",
       "      <th></th>\n",
       "      <th>Pays</th>\n",
       "      <th>Consommation (litres/personne/jour)</th>\n",
       "      <th>Source</th>\n",
       "    </tr>\n",
       "  </thead>\n",
       "  <tbody>\n",
       "    <tr>\n",
       "      <th>0</th>\n",
       "      <td>Canada</td>\n",
       "      <td>supérieur à 250</td>\n",
       "      <td>cieau.com</td>\n",
       "    </tr>\n",
       "    <tr>\n",
       "      <th>1</th>\n",
       "      <td>Etats-Unis</td>\n",
       "      <td>supérieur à 250</td>\n",
       "      <td>cieau.com</td>\n",
       "    </tr>\n",
       "    <tr>\n",
       "      <th>2</th>\n",
       "      <td>Japon</td>\n",
       "      <td>supérieur à 250</td>\n",
       "      <td>cieau.com</td>\n",
       "    </tr>\n",
       "    <tr>\n",
       "      <th>3</th>\n",
       "      <td>Australie</td>\n",
       "      <td>supérieur à 250</td>\n",
       "      <td>cieau.com</td>\n",
       "    </tr>\n",
       "    <tr>\n",
       "      <th>4</th>\n",
       "      <td>Suisse</td>\n",
       "      <td>supérieur à 250</td>\n",
       "      <td>cieau.com</td>\n",
       "    </tr>\n",
       "    <tr>\n",
       "      <th>5</th>\n",
       "      <td>Finlande</td>\n",
       "      <td>de 160 à 250</td>\n",
       "      <td>cieau.com</td>\n",
       "    </tr>\n",
       "    <tr>\n",
       "      <th>6</th>\n",
       "      <td>Italie</td>\n",
       "      <td>de 160 à 250</td>\n",
       "      <td>cieau.com</td>\n",
       "    </tr>\n",
       "    <tr>\n",
       "      <th>7</th>\n",
       "      <td>Espagne</td>\n",
       "      <td>de 160 à 250</td>\n",
       "      <td>cieau.com</td>\n",
       "    </tr>\n",
       "    <tr>\n",
       "      <th>8</th>\n",
       "      <td>Portugal</td>\n",
       "      <td>de 160 à 250</td>\n",
       "      <td>cieau.com</td>\n",
       "    </tr>\n",
       "    <tr>\n",
       "      <th>9</th>\n",
       "      <td>Corée du sud</td>\n",
       "      <td>de 160 à 250</td>\n",
       "      <td>cieau.com</td>\n",
       "    </tr>\n",
       "    <tr>\n",
       "      <th>10</th>\n",
       "      <td>Grèce</td>\n",
       "      <td>de 160 à 250</td>\n",
       "      <td>cieau.com</td>\n",
       "    </tr>\n",
       "    <tr>\n",
       "      <th>11</th>\n",
       "      <td>Suède</td>\n",
       "      <td>de 160 à 250</td>\n",
       "      <td>cieau.com</td>\n",
       "    </tr>\n",
       "    <tr>\n",
       "      <th>12</th>\n",
       "      <td>Danemark</td>\n",
       "      <td>de 130 à 160</td>\n",
       "      <td>cieau.com</td>\n",
       "    </tr>\n",
       "    <tr>\n",
       "      <th>13</th>\n",
       "      <td>Royaume-Uni</td>\n",
       "      <td>de 130 à 160</td>\n",
       "      <td>cieau.com</td>\n",
       "    </tr>\n",
       "    <tr>\n",
       "      <th>14</th>\n",
       "      <td>Autriche</td>\n",
       "      <td>de 130 à 160</td>\n",
       "      <td>cieau.com</td>\n",
       "    </tr>\n",
       "    <tr>\n",
       "      <th>15</th>\n",
       "      <td>France</td>\n",
       "      <td>de 130 à 160</td>\n",
       "      <td>cieau.com</td>\n",
       "    </tr>\n",
       "    <tr>\n",
       "      <th>16</th>\n",
       "      <td>Luxembourg</td>\n",
       "      <td>de 130 à 160</td>\n",
       "      <td>cieau.com</td>\n",
       "    </tr>\n",
       "    <tr>\n",
       "      <th>17</th>\n",
       "      <td>Irlande</td>\n",
       "      <td>de 130 à 160</td>\n",
       "      <td>cieau.com</td>\n",
       "    </tr>\n",
       "    <tr>\n",
       "      <th>18</th>\n",
       "      <td>Allemagne</td>\n",
       "      <td>inférieur à 130</td>\n",
       "      <td>cieau.com</td>\n",
       "    </tr>\n",
       "    <tr>\n",
       "      <th>19</th>\n",
       "      <td>Pays-Bas</td>\n",
       "      <td>inférieur à 130</td>\n",
       "      <td>cieau.com</td>\n",
       "    </tr>\n",
       "    <tr>\n",
       "      <th>20</th>\n",
       "      <td>Belgique</td>\n",
       "      <td>inférieur à 130</td>\n",
       "      <td>cieau.com</td>\n",
       "    </tr>\n",
       "    <tr>\n",
       "      <th>21</th>\n",
       "      <td>Hongrie</td>\n",
       "      <td>inférieur à 130</td>\n",
       "      <td>cieau.com</td>\n",
       "    </tr>\n",
       "    <tr>\n",
       "      <th>22</th>\n",
       "      <td>Bulgarie</td>\n",
       "      <td>inférieur à 130</td>\n",
       "      <td>cieau.com</td>\n",
       "    </tr>\n",
       "    <tr>\n",
       "      <th>23</th>\n",
       "      <td>Pologne</td>\n",
       "      <td>inférieur à 130</td>\n",
       "      <td>cieau.com</td>\n",
       "    </tr>\n",
       "    <tr>\n",
       "      <th>24</th>\n",
       "      <td>République Tchèque</td>\n",
       "      <td>inférieur à 130</td>\n",
       "      <td>cieau.com</td>\n",
       "    </tr>\n",
       "    <tr>\n",
       "      <th>25</th>\n",
       "      <td>Asie</td>\n",
       "      <td>de 50 à 100</td>\n",
       "      <td>cieau.com</td>\n",
       "    </tr>\n",
       "    <tr>\n",
       "      <th>26</th>\n",
       "      <td>Amérique Latine</td>\n",
       "      <td>de 50 à 100</td>\n",
       "      <td>cieau.com</td>\n",
       "    </tr>\n",
       "    <tr>\n",
       "      <th>27</th>\n",
       "      <td>Afrique Sub-Saharienne</td>\n",
       "      <td>de 10 à 20</td>\n",
       "      <td>cieau.com</td>\n",
       "    </tr>\n",
       "  </tbody>\n",
       "</table>\n",
       "</div>"
      ],
      "text/plain": [
       "                      Pays Consommation (litres/personne/jour)     Source\n",
       "0                   Canada                     supérieur à 250  cieau.com\n",
       "1               Etats-Unis                     supérieur à 250  cieau.com\n",
       "2                    Japon                     supérieur à 250  cieau.com\n",
       "3                Australie                     supérieur à 250  cieau.com\n",
       "4                   Suisse                     supérieur à 250  cieau.com\n",
       "5                 Finlande                        de 160 à 250  cieau.com\n",
       "6                   Italie                        de 160 à 250  cieau.com\n",
       "7                  Espagne                        de 160 à 250  cieau.com\n",
       "8                 Portugal                        de 160 à 250  cieau.com\n",
       "9             Corée du sud                        de 160 à 250  cieau.com\n",
       "10                   Grèce                        de 160 à 250  cieau.com\n",
       "11                   Suède                        de 160 à 250  cieau.com\n",
       "12                Danemark                        de 130 à 160  cieau.com\n",
       "13             Royaume-Uni                        de 130 à 160  cieau.com\n",
       "14                Autriche                        de 130 à 160  cieau.com\n",
       "15                  France                        de 130 à 160  cieau.com\n",
       "16              Luxembourg                        de 130 à 160  cieau.com\n",
       "17                 Irlande                        de 130 à 160  cieau.com\n",
       "18               Allemagne                     inférieur à 130  cieau.com\n",
       "19                Pays-Bas                     inférieur à 130  cieau.com\n",
       "20                Belgique                     inférieur à 130  cieau.com\n",
       "21                 Hongrie                     inférieur à 130  cieau.com\n",
       "22                Bulgarie                     inférieur à 130  cieau.com\n",
       "23                 Pologne                     inférieur à 130  cieau.com\n",
       "24      République Tchèque                     inférieur à 130  cieau.com\n",
       "25                    Asie                         de 50 à 100  cieau.com\n",
       "26         Amérique Latine                         de 50 à 100  cieau.com\n",
       "27  Afrique Sub-Saharienne                          de 10 à 20  cieau.com"
      ]
     },
     "execution_count": 16,
     "metadata": {},
     "output_type": "execute_result"
    }
   ],
   "source": [
    "pd.DataFrame(zip(list_countries, list_consumptions, [\"cieau.com\"]*28), columns=[\"Pays\", \"Consommation (litres/personne/jour)\", \"Source\"])"
   ]
  }
 ],
 "metadata": {
  "kernelspec": {
   "display_name": "Python 3",
   "language": "python",
   "name": "python3"
  },
  "language_info": {
   "codemirror_mode": {
    "name": "ipython",
    "version": 3
   },
   "file_extension": ".py",
   "mimetype": "text/x-python",
   "name": "python",
   "nbconvert_exporter": "python",
   "pygments_lexer": "ipython3",
   "version": "3.7.3"
  }
 },
 "nbformat": 4,
 "nbformat_minor": 2
}
