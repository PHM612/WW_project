{
 "cells": [
  {
   "cell_type": "markdown",
   "metadata": {
    "ExecuteTime": {
     "end_time": "2019-08-15T11:37:33.857841Z",
     "start_time": "2019-08-15T11:37:33.854400Z"
    }
   },
   "source": [
    "# WATER SCARCITY by country (rareté de l'eau)\n",
    "## with prediction of future situation\n",
    "## Target (objectif de prediction) : \n",
    "##    accessible drinking water per inhabitant"
   ]
  },
  {
   "cell_type": "markdown",
   "metadata": {
    "ExecuteTime": {
     "end_time": "2019-08-15T11:39:24.964412Z",
     "start_time": "2019-08-15T11:39:24.962113Z"
    }
   },
   "source": [
    "## 1. Scrapping"
   ]
  },
  {
   "cell_type": "markdown",
   "metadata": {},
   "source": [
    "- Starting Scrapping\n",
    "- Managing connexion shutdown, i.e. restarting loading at the same point\n",
    "- Random time scrapping in order to stay hidden\n",
    "- Manage 'my user agent' in order to scrap in 'browser mode' and not 'robot mode'\n",
    "- Sites à scrapper :\n",
    "- ---Consommation moyenne d'eau par habitant et par pays\n",
    "- - https://www.cieau.com/le-metier-de-leau/ressource-en-eau-eau-potable-eaux-usees/la-consommation-deau-domestique-est-elle-la-meme-a-travers-le-monde/\n",
    "- - https://fr.wikipedia.org/wiki/Consommation_d%27eau_domestique_par_pays\n",
    "- --- Consommation d'eau virtuelle\n",
    "- - https://www.consoglobe.com/eau-virtuelle-conflit-3120-cg\n",
    "- - https://www.consoglobe.com/eau-virtuelle-consommation-cachee-cg\n",
    "The idea with scrapping  is :\n",
    "- each scrapping is specific to one web site (html code for balises)\n",
    "- if web site is javascript encoded, you have to use a javascript interface to a 'false internet explorer (google or other)' , then send the 'html transformation' to BeautifulSoup"
   ]
  },
  {
   "cell_type": "markdown",
   "metadata": {
    "ExecuteTime": {
     "end_time": "2019-08-14T09:46:26.984616Z",
     "start_time": "2019-08-14T09:46:26.982534Z"
    }
   },
   "source": [
    "## 2. Ressources\n",
    "FAO and UNO sites are web accessing datas, directly or with 'wget' command\n",
    "- FAO http://www.fao.org/nr/water/aquastat/data/query/index.html\n",
    "- UNO https://population.un.org/wpp/Download/Standard/Population/\n",
    "- Population Mondiale par Pays ou Région (UNO)\n",
    "- Total Population per Country (FAO Aquastat)\n",
    "- Water disponibility per Country or Region (FAO Aquastat)\n",
    "- Water consumption per inhabitant, by Country or Region (FAO + divers documents moyennés)\n",
    "- [GDP per capita] = [Gross Domestic Product (GDP)]/[Total population]/1000  (FAO Aquastat)"
   ]
  },
  {
   "cell_type": "markdown",
   "metadata": {
    "ExecuteTime": {
     "end_time": "2019-08-15T11:55:50.950661Z",
     "start_time": "2019-08-15T11:55:50.936880Z"
    }
   },
   "source": [
    "## 3. Data Features - first on one country or region, then extension\n",
    "- Datas from 1988 to 2019, year by year - idealy week per week !\n",
    "- As many datafiles as Country\n",
    "- Each file is a feature / date datafile\n",
    "- Global water at disposal for population (by Country)\n",
    "- Detail water at disposal (eventualy) : rivers (instant stream), dams (volume), underground (volume), etc.\n",
    "- Population count (by country)\n",
    "- GDP (gross domestic product or PIB or HDI human development index)\n",
    "- Usage related datas :\n",
    "- - average water consumption per inhabitant (by country)\n",
    "- - average energy consumption per inhabitant (by country) or water consumption for energy production\n",
    "- - eventualy, industrialisation rate or water use for industrie (by country)\n",
    "- - eventualy, agricultural rate or water use for agriculture (by country)"
   ]
  },
  {
   "cell_type": "markdown",
   "metadata": {
    "ExecuteTime": {
     "end_time": "2019-08-15T12:02:33.861313Z",
     "start_time": "2019-08-15T12:02:33.849957Z"
    }
   },
   "source": [
    "## 4. Preprocessing\n",
    "- data formating : for exemple 1 dataset for 1 country with the year as column and features as rows\n",
    "- data cleaning\n",
    "- FAO EDA simple analysis (Exploratory Data Analysis) :\n",
    "- - https://www.kaggle.com/marcinjadwizyc/fao-simple-eda\n",
    "- - https://www.kaggle.com/hungnd11/exploring-the-fao-dataset\n",
    "- Hydrofunctions\n",
    "- - https://github.com/mroberge/hydrofunctions"
   ]
  },
  {
   "cell_type": "markdown",
   "metadata": {
    "ExecuteTime": {
     "end_time": "2019-08-15T12:03:56.260106Z",
     "start_time": "2019-08-15T12:03:56.255052Z"
    }
   },
   "source": [
    "## 5. Modeling\n",
    "- Statistics using Machine Learning\n",
    "- Prediction with time series or others"
   ]
  },
  {
   "cell_type": "markdown",
   "metadata": {
    "ExecuteTime": {
     "end_time": "2019-08-15T12:05:16.483751Z",
     "start_time": "2019-08-15T12:05:16.474553Z"
    }
   },
   "source": [
    "## 6. Restitution\n",
    "- Précontainérisation : fichier de variables de configuration multi-utilisateurs\n",
    "- - Requirement.txt\n",
    "- - launching file (an url file)\n",
    "- Map and curves restitution on actual and predictive water stress by country\n",
    "- Interactive web restitution"
   ]
  }
 ],
 "metadata": {
  "kernelspec": {
   "display_name": "Python 3",
   "language": "python",
   "name": "python3"
  },
  "language_info": {
   "codemirror_mode": {
    "name": "ipython",
    "version": 3
   },
   "file_extension": ".py",
   "mimetype": "text/x-python",
   "name": "python",
   "nbconvert_exporter": "python",
   "pygments_lexer": "ipython3",
   "version": "3.7.0"
  },
  "latex_envs": {
   "LaTeX_envs_menu_present": true,
   "autoclose": false,
   "autocomplete": true,
   "bibliofile": "biblio.bib",
   "cite_by": "apalike",
   "current_citInitial": 1,
   "eqLabelWithNumbers": true,
   "eqNumInitial": 1,
   "hotkeys": {
    "equation": "Ctrl-E",
    "itemize": "Ctrl-I"
   },
   "labels_anchors": false,
   "latex_user_defs": false,
   "report_style_numbering": false,
   "user_envs_cfg": false
  },
  "toc": {
   "base_numbering": 1,
   "nav_menu": {},
   "number_sections": true,
   "sideBar": true,
   "skip_h1_title": false,
   "title_cell": "Table of Contents",
   "title_sidebar": "Contents",
   "toc_cell": false,
   "toc_position": {},
   "toc_section_display": true,
   "toc_window_display": true
  }
 },
 "nbformat": 4,
 "nbformat_minor": 2
}
