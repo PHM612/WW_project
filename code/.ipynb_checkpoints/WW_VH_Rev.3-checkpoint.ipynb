{
 "cells": [
  {
   "cell_type": "markdown",
   "metadata": {
    "ExecuteTime": {
     "end_time": "2019-08-15T11:37:33.857841Z",
     "start_time": "2019-08-15T11:37:33.854400Z"
    }
   },
   "source": [
    "# WATER SCARCITY by country (rareté de l'eau)\n",
    "## with prediction of future situation\n",
    "## Target (objectif de prediction) : \n",
    "##    accessible drinking water per inhabitant"
   ]
  },
  {
   "cell_type": "markdown",
   "metadata": {
    "ExecuteTime": {
     "end_time": "2019-08-15T11:39:24.964412Z",
     "start_time": "2019-08-15T11:39:24.962113Z"
    }
   },
   "source": [
    "## 1. Scrapping"
   ]
  },
  {
   "cell_type": "markdown",
   "metadata": {},
   "source": [
    "- Starting Scrapping\n",
    "- Managing connexion shutdown, i.e. restarting loading at the same point\n",
    "- Random time scrapping in order to stay hidden\n",
    "- Manage 'my user agent' in order to scrap in 'browser mode' and not 'robot mode'\n",
    "- Sites à scrapper :\n",
    "- ---Consommation moyenne d'eau par habitant et par pays\n",
    "- - https://www.cieau.com/le-metier-de-leau/ressource-en-eau-eau-potable-eaux-usees/la-consommation-deau-domestique-est-elle-la-meme-a-travers-le-monde/\n",
    "- - https://fr.wikipedia.org/wiki/Consommation_d%27eau_domestique_par_pays\n",
    "- --- Consommation d'eau virtuelle\n",
    "- - https://www.consoglobe.com/eau-virtuelle-conflit-3120-cg\n",
    "- - https://www.consoglobe.com/eau-virtuelle-consommation-cachee-cg\n",
    "The idea with scrapping  is :\n",
    "- each scrapping is specific to one web site (html code for balises)\n",
    "- if web site is javascript encoded, you have to use a javascript interface to a 'false internet explorer (google or other)' , then send the 'html transformation' to BeautifulSoup"
   ]
  },
  {
   "cell_type": "markdown",
   "metadata": {
    "ExecuteTime": {
     "end_time": "2019-08-14T09:46:26.984616Z",
     "start_time": "2019-08-14T09:46:26.982534Z"
    }
   },
   "source": [
    "## 2. Ressources\n",
    "FAO and UNO sites are web accessing datas, directly or with 'wget' command\n",
    "- FAO http://www.fao.org/nr/water/aquastat/data/query/index.html\n",
    "- UNO https://population.un.org/wpp/Download/Standard/Population/\n",
    "- Population Mondiale par Pays ou Région (UNO)\n",
    "- Total Population per Country (FAO Aquastat)\n",
    "- Water disponibility per Country or Region (FAO Aquastat)\n",
    "- Water consumption per inhabitant, by Country or Region (FAO + divers documents moyennés)\n",
    "- [GDP per capita] = [Gross Domestic Product (GDP)]/[Total population]/1000  (FAO Aquastat)"
   ]
  },
  {
   "cell_type": "markdown",
   "metadata": {
    "ExecuteTime": {
     "end_time": "2019-08-25T09:44:03.246615Z",
     "start_time": "2019-08-25T09:44:03.239204Z"
    }
   },
   "source": [
    "### import"
   ]
  },
  {
   "cell_type": "code",
   "execution_count": 3,
   "metadata": {
    "ExecuteTime": {
     "end_time": "2019-08-25T09:06:42.660007Z",
     "start_time": "2019-08-25T09:06:37.715717Z"
    }
   },
   "outputs": [],
   "source": [
    "import pandas as pd\n",
    "import numpy as np"
   ]
  },
  {
   "cell_type": "markdown",
   "metadata": {
    "ExecuteTime": {
     "end_time": "2019-08-25T09:43:34.524679Z",
     "start_time": "2019-08-25T09:43:34.516277Z"
    }
   },
   "source": [
    "### Load data"
   ]
  },
  {
   "cell_type": "code",
   "execution_count": 4,
   "metadata": {
    "ExecuteTime": {
     "end_time": "2019-08-25T09:06:43.677868Z",
     "start_time": "2019-08-25T09:06:43.385895Z"
    }
   },
   "outputs": [],
   "source": [
    "dataf = pd.read_csv(\"../data/FAO_aquastat_flat_1958_2017.csv\")"
   ]
  },
  {
   "cell_type": "code",
   "execution_count": 5,
   "metadata": {
    "ExecuteTime": {
     "end_time": "2019-08-25T09:06:44.477782Z",
     "start_time": "2019-08-25T09:06:44.407952Z"
    }
   },
   "outputs": [],
   "source": [
    "datac = pd.read_csv(\"../data/FAO_aquastat_tables_1958_2017.csv\")"
   ]
  },
  {
   "cell_type": "markdown",
   "metadata": {},
   "source": [
    "### Data F"
   ]
  },
  {
   "cell_type": "code",
   "execution_count": 6,
   "metadata": {
    "ExecuteTime": {
     "end_time": "2019-08-22T08:39:52.414431Z",
     "start_time": "2019-08-22T08:39:52.391113Z"
    }
   },
   "outputs": [
    {
     "data": {
      "text/html": [
       "<div>\n",
       "<style scoped>\n",
       "    .dataframe tbody tr th:only-of-type {\n",
       "        vertical-align: middle;\n",
       "    }\n",
       "\n",
       "    .dataframe tbody tr th {\n",
       "        vertical-align: top;\n",
       "    }\n",
       "\n",
       "    .dataframe thead th {\n",
       "        text-align: right;\n",
       "    }\n",
       "</style>\n",
       "<table border=\"1\" class=\"dataframe\">\n",
       "  <thead>\n",
       "    <tr style=\"text-align: right;\">\n",
       "      <th></th>\n",
       "      <th>Area</th>\n",
       "      <th>Area Id</th>\n",
       "      <th>Variable Name</th>\n",
       "      <th>Variable Id</th>\n",
       "      <th>Year</th>\n",
       "      <th>Value</th>\n",
       "      <th>Symbol</th>\n",
       "      <th>Md</th>\n",
       "    </tr>\n",
       "  </thead>\n",
       "  <tbody>\n",
       "    <tr>\n",
       "      <th>Austria</th>\n",
       "      <td>11.0</td>\n",
       "      <td>Total population</td>\n",
       "      <td>4104.0</td>\n",
       "      <td>1962.0</td>\n",
       "      <td>7157.0</td>\n",
       "      <td>E</td>\n",
       "      <td>NaN</td>\n",
       "      <td>NaN</td>\n",
       "    </tr>\n",
       "    <tr>\n",
       "      <th>Austria</th>\n",
       "      <td>11.0</td>\n",
       "      <td>Total population</td>\n",
       "      <td>4104.0</td>\n",
       "      <td>1967.0</td>\n",
       "      <td>7397.0</td>\n",
       "      <td>E</td>\n",
       "      <td>NaN</td>\n",
       "      <td>NaN</td>\n",
       "    </tr>\n",
       "    <tr>\n",
       "      <th>Austria</th>\n",
       "      <td>11.0</td>\n",
       "      <td>Total population</td>\n",
       "      <td>4104.0</td>\n",
       "      <td>1972.0</td>\n",
       "      <td>7581.0</td>\n",
       "      <td>E</td>\n",
       "      <td>NaN</td>\n",
       "      <td>NaN</td>\n",
       "    </tr>\n",
       "    <tr>\n",
       "      <th>Austria</th>\n",
       "      <td>11.0</td>\n",
       "      <td>Total population</td>\n",
       "      <td>4104.0</td>\n",
       "      <td>1977.0</td>\n",
       "      <td>7637.0</td>\n",
       "      <td>E</td>\n",
       "      <td>NaN</td>\n",
       "      <td>NaN</td>\n",
       "    </tr>\n",
       "    <tr>\n",
       "      <th>Austria</th>\n",
       "      <td>11.0</td>\n",
       "      <td>Total population</td>\n",
       "      <td>4104.0</td>\n",
       "      <td>1982.0</td>\n",
       "      <td>7602.0</td>\n",
       "      <td>E</td>\n",
       "      <td>NaN</td>\n",
       "      <td>NaN</td>\n",
       "    </tr>\n",
       "  </tbody>\n",
       "</table>\n",
       "</div>"
      ],
      "text/plain": [
       "         Area           Area Id  Variable Name  Variable Id    Year Value  \\\n",
       "Austria  11.0  Total population         4104.0       1962.0  7157.0     E   \n",
       "Austria  11.0  Total population         4104.0       1967.0  7397.0     E   \n",
       "Austria  11.0  Total population         4104.0       1972.0  7581.0     E   \n",
       "Austria  11.0  Total population         4104.0       1977.0  7637.0     E   \n",
       "Austria  11.0  Total population         4104.0       1982.0  7602.0     E   \n",
       "\n",
       "        Symbol  Md  \n",
       "Austria    NaN NaN  \n",
       "Austria    NaN NaN  \n",
       "Austria    NaN NaN  \n",
       "Austria    NaN NaN  \n",
       "Austria    NaN NaN  "
      ]
     },
     "execution_count": 6,
     "metadata": {},
     "output_type": "execute_result"
    }
   ],
   "source": [
    "dataf.head()"
   ]
  },
  {
   "cell_type": "code",
   "execution_count": 6,
   "metadata": {
    "ExecuteTime": {
     "end_time": "2019-08-25T09:06:49.921318Z",
     "start_time": "2019-08-25T09:06:49.716658Z"
    }
   },
   "outputs": [
    {
     "data": {
      "text/html": [
       "<div>\n",
       "<style scoped>\n",
       "    .dataframe tbody tr th:only-of-type {\n",
       "        vertical-align: middle;\n",
       "    }\n",
       "\n",
       "    .dataframe tbody tr th {\n",
       "        vertical-align: top;\n",
       "    }\n",
       "\n",
       "    .dataframe thead th {\n",
       "        text-align: right;\n",
       "    }\n",
       "</style>\n",
       "<table border=\"1\" class=\"dataframe\">\n",
       "  <thead>\n",
       "    <tr style=\"text-align: right;\">\n",
       "      <th></th>\n",
       "      <th>Area</th>\n",
       "      <th>Area Id</th>\n",
       "      <th>Variable Name</th>\n",
       "      <th>Variable Id</th>\n",
       "      <th>Year</th>\n",
       "      <th>Value</th>\n",
       "      <th>Symbol</th>\n",
       "      <th>Md</th>\n",
       "    </tr>\n",
       "  </thead>\n",
       "  <tbody>\n",
       "    <tr>\n",
       "      <th>Austria</th>\n",
       "      <td>11.0</td>\n",
       "      <td>Total population</td>\n",
       "      <td>4104.0</td>\n",
       "      <td>1962.0</td>\n",
       "      <td>7157.0</td>\n",
       "      <td>E</td>\n",
       "      <td>NaN</td>\n",
       "      <td>NaN</td>\n",
       "    </tr>\n",
       "    <tr>\n",
       "      <th>Austria</th>\n",
       "      <td>11.0</td>\n",
       "      <td>Total population</td>\n",
       "      <td>4104.0</td>\n",
       "      <td>1967.0</td>\n",
       "      <td>7397.0</td>\n",
       "      <td>E</td>\n",
       "      <td>NaN</td>\n",
       "      <td>NaN</td>\n",
       "    </tr>\n",
       "    <tr>\n",
       "      <th>Austria</th>\n",
       "      <td>11.0</td>\n",
       "      <td>Total population</td>\n",
       "      <td>4104.0</td>\n",
       "      <td>1972.0</td>\n",
       "      <td>7581.0</td>\n",
       "      <td>E</td>\n",
       "      <td>NaN</td>\n",
       "      <td>NaN</td>\n",
       "    </tr>\n",
       "    <tr>\n",
       "      <th>Austria</th>\n",
       "      <td>11.0</td>\n",
       "      <td>Total population</td>\n",
       "      <td>4104.0</td>\n",
       "      <td>1977.0</td>\n",
       "      <td>7637.0</td>\n",
       "      <td>E</td>\n",
       "      <td>NaN</td>\n",
       "      <td>NaN</td>\n",
       "    </tr>\n",
       "    <tr>\n",
       "      <th>Austria</th>\n",
       "      <td>11.0</td>\n",
       "      <td>Total population</td>\n",
       "      <td>4104.0</td>\n",
       "      <td>1982.0</td>\n",
       "      <td>7602.0</td>\n",
       "      <td>E</td>\n",
       "      <td>NaN</td>\n",
       "      <td>NaN</td>\n",
       "    </tr>\n",
       "  </tbody>\n",
       "</table>\n",
       "</div>"
      ],
      "text/plain": [
       "         Area           Area Id  Variable Name  Variable Id    Year Value  \\\n",
       "Austria  11.0  Total population         4104.0       1962.0  7157.0     E   \n",
       "Austria  11.0  Total population         4104.0       1967.0  7397.0     E   \n",
       "Austria  11.0  Total population         4104.0       1972.0  7581.0     E   \n",
       "Austria  11.0  Total population         4104.0       1977.0  7637.0     E   \n",
       "Austria  11.0  Total population         4104.0       1982.0  7602.0     E   \n",
       "\n",
       "        Symbol  Md  \n",
       "Austria    NaN NaN  \n",
       "Austria    NaN NaN  \n",
       "Austria    NaN NaN  \n",
       "Austria    NaN NaN  \n",
       "Austria    NaN NaN  "
      ]
     },
     "execution_count": 6,
     "metadata": {},
     "output_type": "execute_result"
    }
   ],
   "source": [
    "test = dataf.copy()\n",
    "test.head()"
   ]
  },
  {
   "cell_type": "code",
   "execution_count": 1,
   "metadata": {
    "ExecuteTime": {
     "end_time": "2019-08-25T08:56:55.971985Z",
     "start_time": "2019-08-25T08:56:55.963732Z"
    }
   },
   "outputs": [],
   "source": [
    "## Remarque: ici, on rajoute une colonne \"index\" dans notre dataset"
   ]
  },
  {
   "cell_type": "code",
   "execution_count": 7,
   "metadata": {
    "ExecuteTime": {
     "end_time": "2019-08-25T09:06:52.712053Z",
     "start_time": "2019-08-25T09:06:52.649930Z"
    }
   },
   "outputs": [
    {
     "data": {
      "text/html": [
       "<div>\n",
       "<style scoped>\n",
       "    .dataframe tbody tr th:only-of-type {\n",
       "        vertical-align: middle;\n",
       "    }\n",
       "\n",
       "    .dataframe tbody tr th {\n",
       "        vertical-align: top;\n",
       "    }\n",
       "\n",
       "    .dataframe thead th {\n",
       "        text-align: right;\n",
       "    }\n",
       "</style>\n",
       "<table border=\"1\" class=\"dataframe\">\n",
       "  <thead>\n",
       "    <tr style=\"text-align: right;\">\n",
       "      <th></th>\n",
       "      <th>Country</th>\n",
       "      <th>Area</th>\n",
       "      <th>Attribute</th>\n",
       "      <th>Variable Name</th>\n",
       "      <th>Variable Id</th>\n",
       "      <th>Year</th>\n",
       "      <th>Value</th>\n",
       "      <th>Symbol</th>\n",
       "      <th>Md</th>\n",
       "    </tr>\n",
       "  </thead>\n",
       "  <tbody>\n",
       "    <tr>\n",
       "      <th>0</th>\n",
       "      <td>Austria</td>\n",
       "      <td>11.0</td>\n",
       "      <td>Total population</td>\n",
       "      <td>4104.0</td>\n",
       "      <td>1962.0</td>\n",
       "      <td>7157.0</td>\n",
       "      <td>E</td>\n",
       "      <td>NaN</td>\n",
       "      <td>NaN</td>\n",
       "    </tr>\n",
       "    <tr>\n",
       "      <th>1</th>\n",
       "      <td>Austria</td>\n",
       "      <td>11.0</td>\n",
       "      <td>Total population</td>\n",
       "      <td>4104.0</td>\n",
       "      <td>1967.0</td>\n",
       "      <td>7397.0</td>\n",
       "      <td>E</td>\n",
       "      <td>NaN</td>\n",
       "      <td>NaN</td>\n",
       "    </tr>\n",
       "    <tr>\n",
       "      <th>2</th>\n",
       "      <td>Austria</td>\n",
       "      <td>11.0</td>\n",
       "      <td>Total population</td>\n",
       "      <td>4104.0</td>\n",
       "      <td>1972.0</td>\n",
       "      <td>7581.0</td>\n",
       "      <td>E</td>\n",
       "      <td>NaN</td>\n",
       "      <td>NaN</td>\n",
       "    </tr>\n",
       "    <tr>\n",
       "      <th>3</th>\n",
       "      <td>Austria</td>\n",
       "      <td>11.0</td>\n",
       "      <td>Total population</td>\n",
       "      <td>4104.0</td>\n",
       "      <td>1977.0</td>\n",
       "      <td>7637.0</td>\n",
       "      <td>E</td>\n",
       "      <td>NaN</td>\n",
       "      <td>NaN</td>\n",
       "    </tr>\n",
       "    <tr>\n",
       "      <th>4</th>\n",
       "      <td>Austria</td>\n",
       "      <td>11.0</td>\n",
       "      <td>Total population</td>\n",
       "      <td>4104.0</td>\n",
       "      <td>1982.0</td>\n",
       "      <td>7602.0</td>\n",
       "      <td>E</td>\n",
       "      <td>NaN</td>\n",
       "      <td>NaN</td>\n",
       "    </tr>\n",
       "  </tbody>\n",
       "</table>\n",
       "</div>"
      ],
      "text/plain": [
       "   Country  Area         Attribute  Variable Name  Variable Id    Year Value  \\\n",
       "0  Austria  11.0  Total population         4104.0       1962.0  7157.0     E   \n",
       "1  Austria  11.0  Total population         4104.0       1967.0  7397.0     E   \n",
       "2  Austria  11.0  Total population         4104.0       1972.0  7581.0     E   \n",
       "3  Austria  11.0  Total population         4104.0       1977.0  7637.0     E   \n",
       "4  Austria  11.0  Total population         4104.0       1982.0  7602.0     E   \n",
       "\n",
       "  Symbol  Md  \n",
       "0    NaN NaN  \n",
       "1    NaN NaN  \n",
       "2    NaN NaN  \n",
       "3    NaN NaN  \n",
       "4    NaN NaN  "
      ]
     },
     "execution_count": 7,
     "metadata": {},
     "output_type": "execute_result"
    }
   ],
   "source": [
    "test = test.reset_index()\n",
    "test = test.rename(columns = {'index':'Country', 'Area Id':'Attribute'})\n",
    "test.head()"
   ]
  },
  {
   "cell_type": "code",
   "execution_count": 9,
   "metadata": {
    "ExecuteTime": {
     "end_time": "2019-08-25T09:06:59.985311Z",
     "start_time": "2019-08-25T09:06:59.949007Z"
    }
   },
   "outputs": [
    {
     "name": "stdout",
     "output_type": "stream",
     "text": [
      "<class 'pandas.core.frame.DataFrame'>\n",
      "Index: 7140 entries, Austria to FAO. 2016. AQUASTAT Main Database - Food and Agriculture Organization of the United Nations (FAO). Website accessed on[19/08/2019 17:12]\n",
      "Data columns (total 8 columns):\n",
      "Area             7071 non-null float64\n",
      "Area Id          7071 non-null object\n",
      "Variable Name    7071 non-null float64\n",
      "Variable Id      7071 non-null float64\n",
      "Year             7071 non-null float64\n",
      "Value            5356 non-null object\n",
      "Symbol           60 non-null object\n",
      "Md               0 non-null float64\n",
      "dtypes: float64(5), object(3)\n",
      "memory usage: 502.0+ KB\n",
      "None\n",
      "Area                                         231\n",
      "Area Id          Environmental Flow Requirements\n",
      "Variable Name                               4549\n",
      "Variable Id                                 2017\n",
      "Year                                        1491\n",
      "Value                                          E\n",
      "Symbol                                       NaN\n",
      "Md                                           NaN\n",
      "Name: United States of America, dtype: object\n"
     ]
    }
   ],
   "source": [
    "print(dataf.info())\n",
    "print(dataf.iloc[7070])"
   ]
  },
  {
   "cell_type": "code",
   "execution_count": 10,
   "metadata": {
    "ExecuteTime": {
     "end_time": "2019-08-25T09:07:00.735368Z",
     "start_time": "2019-08-25T09:07:00.692654Z"
    }
   },
   "outputs": [
    {
     "name": "stdout",
     "output_type": "stream",
     "text": [
      "<class 'pandas.core.frame.DataFrame'>\n",
      "Index: 7140 entries, Austria to FAO. 2016. AQUASTAT Main Database - Food and Agriculture Organization of the United Nations (FAO). Website accessed on[19/08/2019 17:12]\n",
      "Data columns (total 4 columns):\n",
      "Country      7071 non-null float64\n",
      "Attribute    7071 non-null float64\n",
      "Year         7071 non-null float64\n",
      "Value        5356 non-null object\n",
      "dtypes: float64(3), object(1)\n",
      "memory usage: 278.9+ KB\n",
      "None\n",
      "         Country  Attribute    Year Value\n",
      "Austria     11.0     4104.0  7157.0     E\n",
      "Austria     11.0     4104.0  7397.0     E\n",
      "Austria     11.0     4104.0  7581.0     E\n",
      "Austria     11.0     4104.0  7637.0     E\n",
      "Austria     11.0     4104.0  7602.0     E\n"
     ]
    }
   ],
   "source": [
    "dataf1 = dataf.rename(columns = {'Area':'Country', 'Variable Name':'Attribute'})\n",
    "dataf1.drop(columns=['Area Id','Variable Id','Symbol','Md'], inplace=True)\n",
    "print(dataf1.info())\n",
    "print(dataf1.head())"
   ]
  },
  {
   "cell_type": "markdown",
   "metadata": {},
   "source": [
    "### Data C"
   ]
  },
  {
   "cell_type": "code",
   "execution_count": 11,
   "metadata": {
    "ExecuteTime": {
     "end_time": "2019-08-25T09:07:01.596778Z",
     "start_time": "2019-08-25T09:07:01.497526Z"
    }
   },
   "outputs": [
    {
     "data": {
      "text/html": [
       "<div>\n",
       "<style scoped>\n",
       "    .dataframe tbody tr th:only-of-type {\n",
       "        vertical-align: middle;\n",
       "    }\n",
       "\n",
       "    .dataframe tbody tr th {\n",
       "        vertical-align: top;\n",
       "    }\n",
       "\n",
       "    .dataframe thead th {\n",
       "        text-align: right;\n",
       "    }\n",
       "</style>\n",
       "<table border=\"1\" class=\"dataframe\">\n",
       "  <thead>\n",
       "    <tr style=\"text-align: right;\">\n",
       "      <th></th>\n",
       "      <th>Unnamed: 0</th>\n",
       "      <th>Unnamed: 1</th>\n",
       "      <th>Unnamed: 2</th>\n",
       "      <th>1958-1962</th>\n",
       "      <th>Unnamed: 4</th>\n",
       "      <th>Unnamed: 5</th>\n",
       "      <th>Unnamed: 6</th>\n",
       "      <th>1963-1967</th>\n",
       "      <th>Unnamed: 8</th>\n",
       "      <th>Unnamed: 9</th>\n",
       "      <th>...</th>\n",
       "      <th>Unnamed: 40</th>\n",
       "      <th>Unnamed: 41</th>\n",
       "      <th>Unnamed: 42</th>\n",
       "      <th>2008-2012</th>\n",
       "      <th>Unnamed: 44</th>\n",
       "      <th>Unnamed: 45</th>\n",
       "      <th>Unnamed: 46</th>\n",
       "      <th>2013-2017</th>\n",
       "      <th>Unnamed: 48</th>\n",
       "      <th>Unnamed: 49</th>\n",
       "    </tr>\n",
       "  </thead>\n",
       "  <tbody>\n",
       "    <tr>\n",
       "      <th>0</th>\n",
       "      <td>Austria</td>\n",
       "      <td>Total population (1000 inhab)</td>\n",
       "      <td>1962.0</td>\n",
       "      <td>7157.0</td>\n",
       "      <td>E</td>\n",
       "      <td>NaN</td>\n",
       "      <td>1967.0</td>\n",
       "      <td>7397.0</td>\n",
       "      <td>E</td>\n",
       "      <td>NaN</td>\n",
       "      <td>...</td>\n",
       "      <td>E</td>\n",
       "      <td>NaN</td>\n",
       "      <td>2012.0</td>\n",
       "      <td>8518.0</td>\n",
       "      <td>E</td>\n",
       "      <td>NaN</td>\n",
       "      <td>2017.0</td>\n",
       "      <td>8735.0</td>\n",
       "      <td>E</td>\n",
       "      <td>NaN</td>\n",
       "    </tr>\n",
       "    <tr>\n",
       "      <th>1</th>\n",
       "      <td>Austria</td>\n",
       "      <td>Rural population (1000 inhab)</td>\n",
       "      <td>1962.0</td>\n",
       "      <td>2527.0</td>\n",
       "      <td>E</td>\n",
       "      <td>NaN</td>\n",
       "      <td>1967.0</td>\n",
       "      <td>2596.0</td>\n",
       "      <td>E</td>\n",
       "      <td>NaN</td>\n",
       "      <td>...</td>\n",
       "      <td>E</td>\n",
       "      <td>NaN</td>\n",
       "      <td>2012.0</td>\n",
       "      <td>2943.0</td>\n",
       "      <td>E</td>\n",
       "      <td>NaN</td>\n",
       "      <td>2017.0</td>\n",
       "      <td>3036.0</td>\n",
       "      <td>E</td>\n",
       "      <td>NaN</td>\n",
       "    </tr>\n",
       "    <tr>\n",
       "      <th>2</th>\n",
       "      <td>Austria</td>\n",
       "      <td>Urban population (1000 inhab)</td>\n",
       "      <td>1962.0</td>\n",
       "      <td>4630.0</td>\n",
       "      <td>E</td>\n",
       "      <td>NaN</td>\n",
       "      <td>1967.0</td>\n",
       "      <td>4801.0</td>\n",
       "      <td>E</td>\n",
       "      <td>NaN</td>\n",
       "      <td>...</td>\n",
       "      <td>E</td>\n",
       "      <td>NaN</td>\n",
       "      <td>2012.0</td>\n",
       "      <td>5575.0</td>\n",
       "      <td>E</td>\n",
       "      <td>NaN</td>\n",
       "      <td>2017.0</td>\n",
       "      <td>5699.0</td>\n",
       "      <td>E</td>\n",
       "      <td>NaN</td>\n",
       "    </tr>\n",
       "    <tr>\n",
       "      <th>3</th>\n",
       "      <td>Austria</td>\n",
       "      <td>Population density (inhab/km2)</td>\n",
       "      <td>1962.0</td>\n",
       "      <td>85.32</td>\n",
       "      <td>E</td>\n",
       "      <td>NaN</td>\n",
       "      <td>1967.0</td>\n",
       "      <td>88.19</td>\n",
       "      <td>E</td>\n",
       "      <td>NaN</td>\n",
       "      <td>...</td>\n",
       "      <td>E</td>\n",
       "      <td>NaN</td>\n",
       "      <td>2012.0</td>\n",
       "      <td>101.5</td>\n",
       "      <td>E</td>\n",
       "      <td>NaN</td>\n",
       "      <td>2017.0</td>\n",
       "      <td>104.1</td>\n",
       "      <td>E</td>\n",
       "      <td>NaN</td>\n",
       "    </tr>\n",
       "    <tr>\n",
       "      <th>4</th>\n",
       "      <td>Austria</td>\n",
       "      <td>Gross Domestic Product (GDP) (current US$)</td>\n",
       "      <td>1962.0</td>\n",
       "      <td>7.75611021E9</td>\n",
       "      <td>E</td>\n",
       "      <td>NaN</td>\n",
       "      <td>1967.0</td>\n",
       "      <td>1.1579431669E10</td>\n",
       "      <td>E</td>\n",
       "      <td>NaN</td>\n",
       "      <td>...</td>\n",
       "      <td>E</td>\n",
       "      <td>NaN</td>\n",
       "      <td>2012.0</td>\n",
       "      <td>4.07E11</td>\n",
       "      <td>E</td>\n",
       "      <td>NaN</td>\n",
       "      <td>2015.0</td>\n",
       "      <td>3.74E11</td>\n",
       "      <td>E</td>\n",
       "      <td>NaN</td>\n",
       "    </tr>\n",
       "  </tbody>\n",
       "</table>\n",
       "<p>5 rows × 50 columns</p>\n",
       "</div>"
      ],
      "text/plain": [
       "  Unnamed: 0                                  Unnamed: 1  Unnamed: 2  \\\n",
       "0    Austria               Total population (1000 inhab)      1962.0   \n",
       "1    Austria               Rural population (1000 inhab)      1962.0   \n",
       "2    Austria               Urban population (1000 inhab)      1962.0   \n",
       "3    Austria              Population density (inhab/km2)      1962.0   \n",
       "4    Austria  Gross Domestic Product (GDP) (current US$)      1962.0   \n",
       "\n",
       "      1958-1962 Unnamed: 4 Unnamed: 5  Unnamed: 6        1963-1967 Unnamed: 8  \\\n",
       "0        7157.0          E        NaN      1967.0           7397.0          E   \n",
       "1        2527.0          E        NaN      1967.0           2596.0          E   \n",
       "2        4630.0          E        NaN      1967.0           4801.0          E   \n",
       "3         85.32          E        NaN      1967.0            88.19          E   \n",
       "4  7.75611021E9          E        NaN      1967.0  1.1579431669E10          E   \n",
       "\n",
       "  Unnamed: 9  ...  Unnamed: 40 Unnamed: 41 Unnamed: 42 2008-2012  Unnamed: 44  \\\n",
       "0        NaN  ...            E         NaN      2012.0    8518.0            E   \n",
       "1        NaN  ...            E         NaN      2012.0    2943.0            E   \n",
       "2        NaN  ...            E         NaN      2012.0    5575.0            E   \n",
       "3        NaN  ...            E         NaN      2012.0     101.5            E   \n",
       "4        NaN  ...            E         NaN      2012.0   4.07E11            E   \n",
       "\n",
       "  Unnamed: 45 Unnamed: 46 2013-2017  Unnamed: 48 Unnamed: 49  \n",
       "0         NaN      2017.0    8735.0            E         NaN  \n",
       "1         NaN      2017.0    3036.0            E         NaN  \n",
       "2         NaN      2017.0    5699.0            E         NaN  \n",
       "3         NaN      2017.0     104.1            E         NaN  \n",
       "4         NaN      2015.0   3.74E11            E         NaN  \n",
       "\n",
       "[5 rows x 50 columns]"
      ]
     },
     "execution_count": 11,
     "metadata": {},
     "output_type": "execute_result"
    }
   ],
   "source": [
    "datac.head()"
   ]
  },
  {
   "cell_type": "code",
   "execution_count": 12,
   "metadata": {
    "ExecuteTime": {
     "end_time": "2019-08-25T09:07:02.298381Z",
     "start_time": "2019-08-25T09:07:02.251734Z"
    }
   },
   "outputs": [
    {
     "name": "stdout",
     "output_type": "stream",
     "text": [
      "<class 'pandas.core.frame.DataFrame'>\n",
      "RangeIndex: 935 entries, 0 to 934\n",
      "Data columns (total 50 columns):\n",
      "Country        905 non-null object\n",
      "Attribute      837 non-null object\n",
      "Unnamed: 2     462 non-null float64\n",
      "1958-1962      492 non-null object\n",
      "Unnamed: 4     337 non-null object\n",
      "Unnamed: 5     5 non-null object\n",
      "Unnamed: 6     462 non-null float64\n",
      "1963-1967      492 non-null object\n",
      "Unnamed: 8     337 non-null object\n",
      "Unnamed: 9     5 non-null object\n",
      "Unnamed: 10    503 non-null float64\n",
      "1968-1972      533 non-null object\n",
      "Unnamed: 12    368 non-null object\n",
      "Unnamed: 13    5 non-null object\n",
      "Unnamed: 14    505 non-null float64\n",
      "1973-1977      535 non-null object\n",
      "Unnamed: 16    375 non-null object\n",
      "Unnamed: 17    5 non-null object\n",
      "Unnamed: 18    535 non-null float64\n",
      "1978-1982      565 non-null object\n",
      "Unnamed: 20    397 non-null object\n",
      "Unnamed: 21    5 non-null object\n",
      "Unnamed: 22    535 non-null float64\n",
      "1983-1987      565 non-null object\n",
      "Unnamed: 24    399 non-null object\n",
      "Unnamed: 25    5 non-null object\n",
      "Unnamed: 26    653 non-null float64\n",
      "1988-1992      683 non-null object\n",
      "Unnamed: 28    505 non-null object\n",
      "Unnamed: 29    6 non-null object\n",
      "Unnamed: 30    649 non-null float64\n",
      "1993-1997      679 non-null object\n",
      "Unnamed: 32    496 non-null object\n",
      "Unnamed: 33    6 non-null object\n",
      "Unnamed: 34    699 non-null float64\n",
      "1998-2002      729 non-null object\n",
      "Unnamed: 36    557 non-null object\n",
      "Unnamed: 37    6 non-null object\n",
      "Unnamed: 38    682 non-null float64\n",
      "2003-2007      712 non-null object\n",
      "Unnamed: 40    536 non-null object\n",
      "Unnamed: 41    6 non-null object\n",
      "Unnamed: 42    718 non-null float64\n",
      "2008-2012      748 non-null object\n",
      "Unnamed: 44    563 non-null object\n",
      "Unnamed: 45    6 non-null object\n",
      "Unnamed: 46    668 non-null float64\n",
      "2013-2017      698 non-null object\n",
      "Unnamed: 48    486 non-null object\n",
      "Unnamed: 49    0 non-null float64\n",
      "dtypes: float64(13), object(37)\n",
      "memory usage: 365.3+ KB\n"
     ]
    }
   ],
   "source": [
    "datac = datac.rename(columns = {'Unnamed: 0':'Country', 'Unnamed: 1':'Attribute'})\n",
    "datac.info()"
   ]
  },
  {
   "cell_type": "code",
   "execution_count": 13,
   "metadata": {
    "ExecuteTime": {
     "end_time": "2019-08-25T09:07:03.370823Z",
     "start_time": "2019-08-25T09:07:03.353626Z"
    }
   },
   "outputs": [
    {
     "data": {
      "text/plain": [
       "Index(['Country', 'Attribute', 'Unnamed: 2', '1958-1962', 'Unnamed: 4',\n",
       "       'Unnamed: 5', 'Unnamed: 6', '1963-1967', 'Unnamed: 8', 'Unnamed: 9',\n",
       "       'Unnamed: 10', '1968-1972', 'Unnamed: 12', 'Unnamed: 13', 'Unnamed: 14',\n",
       "       '1973-1977', 'Unnamed: 16', 'Unnamed: 17', 'Unnamed: 18', '1978-1982',\n",
       "       'Unnamed: 20', 'Unnamed: 21', 'Unnamed: 22', '1983-1987', 'Unnamed: 24',\n",
       "       'Unnamed: 25', 'Unnamed: 26', '1988-1992', 'Unnamed: 28', 'Unnamed: 29',\n",
       "       'Unnamed: 30', '1993-1997', 'Unnamed: 32', 'Unnamed: 33', 'Unnamed: 34',\n",
       "       '1998-2002', 'Unnamed: 36', 'Unnamed: 37', 'Unnamed: 38', '2003-2007',\n",
       "       'Unnamed: 40', 'Unnamed: 41', 'Unnamed: 42', '2008-2012', 'Unnamed: 44',\n",
       "       'Unnamed: 45', 'Unnamed: 46', '2013-2017', 'Unnamed: 48',\n",
       "       'Unnamed: 49'],\n",
       "      dtype='object')"
      ]
     },
     "execution_count": 13,
     "metadata": {},
     "output_type": "execute_result"
    }
   ],
   "source": [
    "datac.columns"
   ]
  },
  {
   "cell_type": "code",
   "execution_count": 18,
   "metadata": {
    "ExecuteTime": {
     "end_time": "2019-08-25T09:08:58.604253Z",
     "start_time": "2019-08-25T09:08:58.498719Z"
    }
   },
   "outputs": [
    {
     "data": {
      "text/html": [
       "<div>\n",
       "<style scoped>\n",
       "    .dataframe tbody tr th:only-of-type {\n",
       "        vertical-align: middle;\n",
       "    }\n",
       "\n",
       "    .dataframe tbody tr th {\n",
       "        vertical-align: top;\n",
       "    }\n",
       "\n",
       "    .dataframe thead th {\n",
       "        text-align: right;\n",
       "    }\n",
       "</style>\n",
       "<table border=\"1\" class=\"dataframe\">\n",
       "  <thead>\n",
       "    <tr style=\"text-align: right;\">\n",
       "      <th></th>\n",
       "      <th>Country</th>\n",
       "      <th>Attribute</th>\n",
       "      <th>Unnamed: 2</th>\n",
       "      <th>1958-1962</th>\n",
       "      <th>Unnamed: 4</th>\n",
       "      <th>Unnamed: 5</th>\n",
       "      <th>Unnamed: 6</th>\n",
       "      <th>1963-1967</th>\n",
       "      <th>Unnamed: 8</th>\n",
       "      <th>Unnamed: 9</th>\n",
       "      <th>...</th>\n",
       "      <th>Unnamed: 40</th>\n",
       "      <th>Unnamed: 41</th>\n",
       "      <th>Unnamed: 42</th>\n",
       "      <th>2008-2012</th>\n",
       "      <th>Unnamed: 44</th>\n",
       "      <th>Unnamed: 45</th>\n",
       "      <th>Unnamed: 46</th>\n",
       "      <th>2013-2017</th>\n",
       "      <th>Unnamed: 48</th>\n",
       "      <th>Unnamed: 49</th>\n",
       "    </tr>\n",
       "  </thead>\n",
       "  <tbody>\n",
       "    <tr>\n",
       "      <th>0</th>\n",
       "      <td>Austria</td>\n",
       "      <td>Total population (1000 inhab)</td>\n",
       "      <td>1962.0</td>\n",
       "      <td>7157.0</td>\n",
       "      <td>E</td>\n",
       "      <td>NaN</td>\n",
       "      <td>1967.0</td>\n",
       "      <td>7397.0</td>\n",
       "      <td>E</td>\n",
       "      <td>NaN</td>\n",
       "      <td>...</td>\n",
       "      <td>E</td>\n",
       "      <td>NaN</td>\n",
       "      <td>2012.0</td>\n",
       "      <td>8518.0</td>\n",
       "      <td>E</td>\n",
       "      <td>NaN</td>\n",
       "      <td>2017.0</td>\n",
       "      <td>8735.0</td>\n",
       "      <td>E</td>\n",
       "      <td>NaN</td>\n",
       "    </tr>\n",
       "    <tr>\n",
       "      <th>1</th>\n",
       "      <td>Austria</td>\n",
       "      <td>Rural population (1000 inhab)</td>\n",
       "      <td>1962.0</td>\n",
       "      <td>2527.0</td>\n",
       "      <td>E</td>\n",
       "      <td>NaN</td>\n",
       "      <td>1967.0</td>\n",
       "      <td>2596.0</td>\n",
       "      <td>E</td>\n",
       "      <td>NaN</td>\n",
       "      <td>...</td>\n",
       "      <td>E</td>\n",
       "      <td>NaN</td>\n",
       "      <td>2012.0</td>\n",
       "      <td>2943.0</td>\n",
       "      <td>E</td>\n",
       "      <td>NaN</td>\n",
       "      <td>2017.0</td>\n",
       "      <td>3036.0</td>\n",
       "      <td>E</td>\n",
       "      <td>NaN</td>\n",
       "    </tr>\n",
       "    <tr>\n",
       "      <th>2</th>\n",
       "      <td>Austria</td>\n",
       "      <td>Urban population (1000 inhab)</td>\n",
       "      <td>1962.0</td>\n",
       "      <td>4630.0</td>\n",
       "      <td>E</td>\n",
       "      <td>NaN</td>\n",
       "      <td>1967.0</td>\n",
       "      <td>4801.0</td>\n",
       "      <td>E</td>\n",
       "      <td>NaN</td>\n",
       "      <td>...</td>\n",
       "      <td>E</td>\n",
       "      <td>NaN</td>\n",
       "      <td>2012.0</td>\n",
       "      <td>5575.0</td>\n",
       "      <td>E</td>\n",
       "      <td>NaN</td>\n",
       "      <td>2017.0</td>\n",
       "      <td>5699.0</td>\n",
       "      <td>E</td>\n",
       "      <td>NaN</td>\n",
       "    </tr>\n",
       "    <tr>\n",
       "      <th>3</th>\n",
       "      <td>Austria</td>\n",
       "      <td>Population density (inhab/km2)</td>\n",
       "      <td>1962.0</td>\n",
       "      <td>85.32</td>\n",
       "      <td>E</td>\n",
       "      <td>NaN</td>\n",
       "      <td>1967.0</td>\n",
       "      <td>88.19</td>\n",
       "      <td>E</td>\n",
       "      <td>NaN</td>\n",
       "      <td>...</td>\n",
       "      <td>E</td>\n",
       "      <td>NaN</td>\n",
       "      <td>2012.0</td>\n",
       "      <td>101.5</td>\n",
       "      <td>E</td>\n",
       "      <td>NaN</td>\n",
       "      <td>2017.0</td>\n",
       "      <td>104.1</td>\n",
       "      <td>E</td>\n",
       "      <td>NaN</td>\n",
       "    </tr>\n",
       "    <tr>\n",
       "      <th>4</th>\n",
       "      <td>Austria</td>\n",
       "      <td>Gross Domestic Product (GDP) (current US$)</td>\n",
       "      <td>1962.0</td>\n",
       "      <td>7.75611021E9</td>\n",
       "      <td>E</td>\n",
       "      <td>NaN</td>\n",
       "      <td>1967.0</td>\n",
       "      <td>1.1579431669E10</td>\n",
       "      <td>E</td>\n",
       "      <td>NaN</td>\n",
       "      <td>...</td>\n",
       "      <td>E</td>\n",
       "      <td>NaN</td>\n",
       "      <td>2012.0</td>\n",
       "      <td>4.07E11</td>\n",
       "      <td>E</td>\n",
       "      <td>NaN</td>\n",
       "      <td>2015.0</td>\n",
       "      <td>3.74E11</td>\n",
       "      <td>E</td>\n",
       "      <td>NaN</td>\n",
       "    </tr>\n",
       "  </tbody>\n",
       "</table>\n",
       "<p>5 rows × 50 columns</p>\n",
       "</div>"
      ],
      "text/plain": [
       "   Country                                   Attribute  Unnamed: 2  \\\n",
       "0  Austria               Total population (1000 inhab)      1962.0   \n",
       "1  Austria               Rural population (1000 inhab)      1962.0   \n",
       "2  Austria               Urban population (1000 inhab)      1962.0   \n",
       "3  Austria              Population density (inhab/km2)      1962.0   \n",
       "4  Austria  Gross Domestic Product (GDP) (current US$)      1962.0   \n",
       "\n",
       "      1958-1962 Unnamed: 4 Unnamed: 5  Unnamed: 6        1963-1967 Unnamed: 8  \\\n",
       "0        7157.0          E        NaN      1967.0           7397.0          E   \n",
       "1        2527.0          E        NaN      1967.0           2596.0          E   \n",
       "2        4630.0          E        NaN      1967.0           4801.0          E   \n",
       "3         85.32          E        NaN      1967.0            88.19          E   \n",
       "4  7.75611021E9          E        NaN      1967.0  1.1579431669E10          E   \n",
       "\n",
       "  Unnamed: 9  ...  Unnamed: 40 Unnamed: 41 Unnamed: 42 2008-2012  Unnamed: 44  \\\n",
       "0        NaN  ...            E         NaN      2012.0    8518.0            E   \n",
       "1        NaN  ...            E         NaN      2012.0    2943.0            E   \n",
       "2        NaN  ...            E         NaN      2012.0    5575.0            E   \n",
       "3        NaN  ...            E         NaN      2012.0     101.5            E   \n",
       "4        NaN  ...            E         NaN      2012.0   4.07E11            E   \n",
       "\n",
       "  Unnamed: 45 Unnamed: 46 2013-2017  Unnamed: 48 Unnamed: 49  \n",
       "0         NaN      2017.0    8735.0            E         NaN  \n",
       "1         NaN      2017.0    3036.0            E         NaN  \n",
       "2         NaN      2017.0    5699.0            E         NaN  \n",
       "3         NaN      2017.0     104.1            E         NaN  \n",
       "4         NaN      2015.0   3.74E11            E         NaN  \n",
       "\n",
       "[5 rows x 50 columns]"
      ]
     },
     "execution_count": 18,
     "metadata": {},
     "output_type": "execute_result"
    }
   ],
   "source": [
    "datac.head()"
   ]
  },
  {
   "cell_type": "code",
   "execution_count": 19,
   "metadata": {
    "ExecuteTime": {
     "end_time": "2019-08-25T09:08:58.974161Z",
     "start_time": "2019-08-25T09:08:58.955608Z"
    }
   },
   "outputs": [
    {
     "data": {
      "text/plain": [
       "Country                              Austria\n",
       "Attribute      Rural population (1000 inhab)\n",
       "Unnamed: 2                              1962\n",
       "1958-1962                             2527.0\n",
       "Unnamed: 4                                 E\n",
       "Unnamed: 5                               NaN\n",
       "Unnamed: 6                              1967\n",
       "1963-1967                             2596.0\n",
       "Unnamed: 8                                 E\n",
       "Unnamed: 9                               NaN\n",
       "Unnamed: 10                             1972\n",
       "1968-1972                             2644.0\n",
       "Unnamed: 12                                E\n",
       "Unnamed: 13                              NaN\n",
       "Unnamed: 14                             1977\n",
       "1973-1977                             2667.0\n",
       "Unnamed: 16                                E\n",
       "Unnamed: 17                              NaN\n",
       "Unnamed: 18                             1982\n",
       "1978-1982                             2660.0\n",
       "Unnamed: 20                                E\n",
       "Unnamed: 21                              NaN\n",
       "Unnamed: 22                             1987\n",
       "1983-1987                             2655.0\n",
       "Unnamed: 24                                E\n",
       "Unnamed: 25                              NaN\n",
       "Unnamed: 26                             1992\n",
       "1988-1992                             2700.0\n",
       "Unnamed: 28                                E\n",
       "Unnamed: 29                              NaN\n",
       "Unnamed: 30                             1997\n",
       "1993-1997                             2760.0\n",
       "Unnamed: 32                                E\n",
       "Unnamed: 33                              NaN\n",
       "Unnamed: 34                             2002\n",
       "1998-2002                             2809.0\n",
       "Unnamed: 36                                E\n",
       "Unnamed: 37                              NaN\n",
       "Unnamed: 38                             2007\n",
       "2003-2007                             2840.0\n",
       "Unnamed: 40                                E\n",
       "Unnamed: 41                              NaN\n",
       "Unnamed: 42                             2012\n",
       "2008-2012                             2943.0\n",
       "Unnamed: 44                                E\n",
       "Unnamed: 45                              NaN\n",
       "Unnamed: 46                             2017\n",
       "2013-2017                             3036.0\n",
       "Unnamed: 48                                E\n",
       "Unnamed: 49                              NaN\n",
       "Name: 1, dtype: object"
      ]
     },
     "execution_count": 19,
     "metadata": {},
     "output_type": "execute_result"
    }
   ],
   "source": [
    "datac.iloc[1]"
   ]
  },
  {
   "cell_type": "code",
   "execution_count": 20,
   "metadata": {
    "ExecuteTime": {
     "end_time": "2019-08-25T09:08:59.797088Z",
     "start_time": "2019-08-25T09:08:59.650756Z"
    }
   },
   "outputs": [],
   "source": [
    "datac1 = datac.copy()\n",
    "for v in range(50) :\n",
    "    try :\n",
    "        datac1.drop(columns=f'Unnamed: {v}', inplace=True)\n",
    "    except : \n",
    "        pass"
   ]
  },
  {
   "cell_type": "code",
   "execution_count": 21,
   "metadata": {
    "ExecuteTime": {
     "end_time": "2019-08-25T09:09:00.321205Z",
     "start_time": "2019-08-25T09:09:00.309257Z"
    }
   },
   "outputs": [
    {
     "data": {
      "text/plain": [
       "Index(['Country', 'Attribute', '1958-1962', '1963-1967', '1968-1972',\n",
       "       '1973-1977', '1978-1982', '1983-1987', '1988-1992', '1993-1997',\n",
       "       '1998-2002', '2003-2007', '2008-2012', '2013-2017'],\n",
       "      dtype='object')"
      ]
     },
     "execution_count": 21,
     "metadata": {},
     "output_type": "execute_result"
    }
   ],
   "source": [
    "datac1.columns"
   ]
  },
  {
   "cell_type": "code",
   "execution_count": 22,
   "metadata": {
    "ExecuteTime": {
     "end_time": "2019-08-25T09:09:01.077146Z",
     "start_time": "2019-08-25T09:09:01.067714Z"
    }
   },
   "outputs": [
    {
     "name": "stdout",
     "output_type": "stream",
     "text": [
      "data nb rows and columns\n",
      "935 14\n"
     ]
    }
   ],
   "source": [
    "print('data nb rows and columns')\n",
    "print(datac1.shape[0],datac1.shape[1])"
   ]
  },
  {
   "cell_type": "code",
   "execution_count": 23,
   "metadata": {
    "ExecuteTime": {
     "end_time": "2019-08-25T09:09:03.034311Z",
     "start_time": "2019-08-25T09:09:03.020422Z"
    }
   },
   "outputs": [
    {
     "data": {
      "text/plain": [
       "Country                            United States of America\n",
       "Attribute    Environmental Flow Requirements (10^9 m3/year)\n",
       "1958-1962                                            1491.0\n",
       "1963-1967                                            1491.0\n",
       "1968-1972                                            1491.0\n",
       "1973-1977                                            1491.0\n",
       "1978-1982                                            1491.0\n",
       "1983-1987                                            1491.0\n",
       "1988-1992                                            1491.0\n",
       "1993-1997                                            1491.0\n",
       "1998-2002                                            1491.0\n",
       "2003-2007                                            1491.0\n",
       "2008-2012                                            1491.0\n",
       "2013-2017                                            1491.0\n",
       "Name: 866, dtype: object"
      ]
     },
     "execution_count": 23,
     "metadata": {},
     "output_type": "execute_result"
    }
   ],
   "source": [
    "datac1.iloc[866]  # a partir de l'index 867 ce ne sont plus que des infos inutiles sur le fichier lui-même"
   ]
  },
  {
   "cell_type": "code",
   "execution_count": 25,
   "metadata": {
    "ExecuteTime": {
     "end_time": "2019-08-25T09:12:51.315950Z",
     "start_time": "2019-08-25T09:12:51.281954Z"
    }
   },
   "outputs": [
    {
     "name": "stdout",
     "output_type": "stream",
     "text": [
      "<class 'pandas.core.frame.DataFrame'>\n",
      "Int64Index: 867 entries, 0 to 866\n",
      "Data columns (total 14 columns):\n",
      "Country      837 non-null object\n",
      "Attribute    837 non-null object\n",
      "1958-1962    492 non-null object\n",
      "1963-1967    492 non-null object\n",
      "1968-1972    533 non-null object\n",
      "1973-1977    535 non-null object\n",
      "1978-1982    565 non-null object\n",
      "1983-1987    565 non-null object\n",
      "1988-1992    683 non-null object\n",
      "1993-1997    679 non-null object\n",
      "1998-2002    729 non-null object\n",
      "2003-2007    712 non-null object\n",
      "2008-2012    748 non-null object\n",
      "2013-2017    698 non-null object\n",
      "dtypes: object(14)\n",
      "memory usage: 101.6+ KB\n"
     ]
    }
   ],
   "source": [
    "datac2 = datac1[datac1.index < 867]\n",
    "datac2.info()"
   ]
  },
  {
   "cell_type": "markdown",
   "metadata": {
    "ExecuteTime": {
     "end_time": "2019-08-25T09:45:03.412440Z",
     "start_time": "2019-08-25T09:45:03.406662Z"
    }
   },
   "source": [
    "#### Calcul du nombre de pays par attributs"
   ]
  },
  {
   "cell_type": "code",
   "execution_count": 40,
   "metadata": {
    "ExecuteTime": {
     "end_time": "2019-08-25T09:45:59.395511Z",
     "start_time": "2019-08-25T09:45:59.333925Z"
    }
   },
   "outputs": [
    {
     "data": {
      "text/html": [
       "<div>\n",
       "<style scoped>\n",
       "    .dataframe tbody tr th:only-of-type {\n",
       "        vertical-align: middle;\n",
       "    }\n",
       "\n",
       "    .dataframe tbody tr th {\n",
       "        vertical-align: top;\n",
       "    }\n",
       "\n",
       "    .dataframe thead th {\n",
       "        text-align: right;\n",
       "    }\n",
       "</style>\n",
       "<table border=\"1\" class=\"dataframe\">\n",
       "  <thead>\n",
       "    <tr style=\"text-align: right;\">\n",
       "      <th></th>\n",
       "      <th>Country</th>\n",
       "      <th>Attribute</th>\n",
       "      <th>1958-1962</th>\n",
       "      <th>1963-1967</th>\n",
       "      <th>1968-1972</th>\n",
       "      <th>1973-1977</th>\n",
       "      <th>1978-1982</th>\n",
       "      <th>1983-1987</th>\n",
       "      <th>1988-1992</th>\n",
       "      <th>1993-1997</th>\n",
       "      <th>1998-2002</th>\n",
       "      <th>2003-2007</th>\n",
       "      <th>2008-2012</th>\n",
       "      <th>2013-2017</th>\n",
       "    </tr>\n",
       "  </thead>\n",
       "  <tbody>\n",
       "    <tr>\n",
       "      <th>0</th>\n",
       "      <td>Austria</td>\n",
       "      <td>Total population (1000 inhab)</td>\n",
       "      <td>7157.0</td>\n",
       "      <td>7397.0</td>\n",
       "      <td>7581.0</td>\n",
       "      <td>7637.0</td>\n",
       "      <td>7602.0</td>\n",
       "      <td>7639.0</td>\n",
       "      <td>7831.0</td>\n",
       "      <td>8033.0</td>\n",
       "      <td>8134.0</td>\n",
       "      <td>8312.0</td>\n",
       "      <td>8518.0</td>\n",
       "      <td>8735.0</td>\n",
       "    </tr>\n",
       "    <tr>\n",
       "      <th>1</th>\n",
       "      <td>Austria</td>\n",
       "      <td>Rural population (1000 inhab)</td>\n",
       "      <td>2527.0</td>\n",
       "      <td>2596.0</td>\n",
       "      <td>2644.0</td>\n",
       "      <td>2667.0</td>\n",
       "      <td>2660.0</td>\n",
       "      <td>2655.0</td>\n",
       "      <td>2700.0</td>\n",
       "      <td>2760.0</td>\n",
       "      <td>2809.0</td>\n",
       "      <td>2840.0</td>\n",
       "      <td>2943.0</td>\n",
       "      <td>3036.0</td>\n",
       "    </tr>\n",
       "    <tr>\n",
       "      <th>2</th>\n",
       "      <td>Austria</td>\n",
       "      <td>Urban population (1000 inhab)</td>\n",
       "      <td>4630.0</td>\n",
       "      <td>4801.0</td>\n",
       "      <td>4937.0</td>\n",
       "      <td>4970.0</td>\n",
       "      <td>4942.0</td>\n",
       "      <td>4984.0</td>\n",
       "      <td>5131.0</td>\n",
       "      <td>5273.0</td>\n",
       "      <td>5325.0</td>\n",
       "      <td>5472.0</td>\n",
       "      <td>5575.0</td>\n",
       "      <td>5699.0</td>\n",
       "    </tr>\n",
       "    <tr>\n",
       "      <th>3</th>\n",
       "      <td>Austria</td>\n",
       "      <td>Population density (inhab/km2)</td>\n",
       "      <td>85.32</td>\n",
       "      <td>88.19</td>\n",
       "      <td>90.38</td>\n",
       "      <td>91.05</td>\n",
       "      <td>90.63</td>\n",
       "      <td>91.07</td>\n",
       "      <td>93.36</td>\n",
       "      <td>95.77</td>\n",
       "      <td>96.97</td>\n",
       "      <td>99.09</td>\n",
       "      <td>101.5</td>\n",
       "      <td>104.1</td>\n",
       "    </tr>\n",
       "    <tr>\n",
       "      <th>4</th>\n",
       "      <td>Austria</td>\n",
       "      <td>Gross Domestic Product (GDP) (current US$)</td>\n",
       "      <td>7.75611021E9</td>\n",
       "      <td>1.1579431669E10</td>\n",
       "      <td>2.2006470861E10</td>\n",
       "      <td>5.142158563E10</td>\n",
       "      <td>7.1103585384E10</td>\n",
       "      <td>1.24E11</td>\n",
       "      <td>1.95E11</td>\n",
       "      <td>2.12E11</td>\n",
       "      <td>2.13E11</td>\n",
       "      <td>3.86E11</td>\n",
       "      <td>4.07E11</td>\n",
       "      <td>3.74E11</td>\n",
       "    </tr>\n",
       "  </tbody>\n",
       "</table>\n",
       "</div>"
      ],
      "text/plain": [
       "   Country                                   Attribute     1958-1962  \\\n",
       "0  Austria               Total population (1000 inhab)        7157.0   \n",
       "1  Austria               Rural population (1000 inhab)        2527.0   \n",
       "2  Austria               Urban population (1000 inhab)        4630.0   \n",
       "3  Austria              Population density (inhab/km2)         85.32   \n",
       "4  Austria  Gross Domestic Product (GDP) (current US$)  7.75611021E9   \n",
       "\n",
       "         1963-1967        1968-1972       1973-1977        1978-1982  \\\n",
       "0           7397.0           7581.0          7637.0           7602.0   \n",
       "1           2596.0           2644.0          2667.0           2660.0   \n",
       "2           4801.0           4937.0          4970.0           4942.0   \n",
       "3            88.19            90.38           91.05            90.63   \n",
       "4  1.1579431669E10  2.2006470861E10  5.142158563E10  7.1103585384E10   \n",
       "\n",
       "  1983-1987 1988-1992 1993-1997 1998-2002 2003-2007 2008-2012 2013-2017  \n",
       "0    7639.0    7831.0    8033.0    8134.0    8312.0    8518.0    8735.0  \n",
       "1    2655.0    2700.0    2760.0    2809.0    2840.0    2943.0    3036.0  \n",
       "2    4984.0    5131.0    5273.0    5325.0    5472.0    5575.0    5699.0  \n",
       "3     91.07     93.36     95.77     96.97     99.09     101.5     104.1  \n",
       "4   1.24E11   1.95E11   2.12E11   2.13E11   3.86E11   4.07E11   3.74E11  "
      ]
     },
     "execution_count": 40,
     "metadata": {},
     "output_type": "execute_result"
    }
   ],
   "source": [
    "datac2.head()"
   ]
  },
  {
   "cell_type": "code",
   "execution_count": 42,
   "metadata": {
    "ExecuteTime": {
     "end_time": "2019-08-25T09:46:08.022857Z",
     "start_time": "2019-08-25T09:46:08.000822Z"
    }
   },
   "outputs": [
    {
     "data": {
      "text/plain": [
       "array(['Austria', nan, 'Belgium', 'Bosnia and Herzegovina', 'Bulgaria',\n",
       "       'Cambodia', 'Croatia', 'Denmark', 'Finland', 'France', 'Germany',\n",
       "       'Greece', 'Iceland', 'Ireland', 'Italy', 'Liechtenstein',\n",
       "       'Lithuania', 'Luxembourg', 'Monaco', 'Montenegro', 'Netherlands',\n",
       "       'North Macedonia', 'Norway', 'Poland', 'Portugal', 'Romania',\n",
       "       'Serbia', 'Spain', 'Sweden', 'Switzerland', 'United Kingdom',\n",
       "       'United States of America'], dtype=object)"
      ]
     },
     "execution_count": 42,
     "metadata": {},
     "output_type": "execute_result"
    }
   ],
   "source": [
    "datac2['Country'].unique() # on voit dans la liste des pays un \"nan\""
   ]
  },
  {
   "cell_type": "code",
   "execution_count": 68,
   "metadata": {
    "ExecuteTime": {
     "end_time": "2019-08-25T13:14:41.066305Z",
     "start_time": "2019-08-25T13:14:41.049699Z"
    },
    "scrolled": true
   },
   "outputs": [
    {
     "data": {
      "text/plain": [
       "30"
      ]
     },
     "execution_count": 68,
     "metadata": {},
     "output_type": "execute_result"
    }
   ],
   "source": [
    "datac2[\"Country\"].isna().sum()"
   ]
  },
  {
   "cell_type": "code",
   "execution_count": 69,
   "metadata": {
    "ExecuteTime": {
     "end_time": "2019-08-25T13:18:19.998260Z",
     "start_time": "2019-08-25T13:18:19.982385Z"
    }
   },
   "outputs": [],
   "source": [
    "#Trouver l'index correspondant au Nan dans la colonne 'Country' car en a 30 quand même!"
   ]
  },
  {
   "cell_type": "code",
   "execution_count": 70,
   "metadata": {
    "ExecuteTime": {
     "end_time": "2019-08-25T13:19:55.307412Z",
     "start_time": "2019-08-25T13:19:55.301641Z"
    }
   },
   "outputs": [],
   "source": [
    "#Test non concluant de VH:\n",
    "#datac2[\"Country\"].index[datac2[\"Country\"].apply(np.isnan)]\n",
    "#find_value_nan = datac2 [(\"Country\" == \"nan\")]\n",
    "#nan_index = datac2[\"Country\" == \"nan\"].index()\n",
    "#datac2[\"Country\"].isna().index()"
   ]
  },
  {
   "cell_type": "code",
   "execution_count": 35,
   "metadata": {
    "ExecuteTime": {
     "end_time": "2019-08-25T09:37:46.906479Z",
     "start_time": "2019-08-25T09:37:46.877086Z"
    }
   },
   "outputs": [
    {
     "data": {
      "text/plain": [
       "Italy                       27\n",
       "Spain                       27\n",
       "Ireland                     27\n",
       "Sweden                      27\n",
       "Finland                     27\n",
       "Bosnia and Herzegovina      27\n",
       "Poland                      27\n",
       "Luxembourg                  27\n",
       "Lithuania                   27\n",
       "Greece                      27\n",
       "United States of America    27\n",
       "Norway                      27\n",
       "Serbia                      27\n",
       "Denmark                     27\n",
       "Netherlands                 27\n",
       "Austria                     27\n",
       "Croatia                     27\n",
       "Monaco                      27\n",
       "Belgium                     27\n",
       "Switzerland                 27\n",
       "Iceland                     27\n",
       "Germany                     27\n",
       "Cambodia                    27\n",
       "United Kingdom              27\n",
       "Montenegro                  27\n",
       "Romania                     27\n",
       "North Macedonia             27\n",
       "Bulgaria                    27\n",
       "Portugal                    27\n",
       "France                      27\n",
       "Liechtenstein               27\n",
       "Name: Country, dtype: int64"
      ]
     },
     "execution_count": 35,
     "metadata": {},
     "output_type": "execute_result"
    }
   ],
   "source": [
    "datac2[\"Country\"].value_counts()"
   ]
  },
  {
   "cell_type": "code",
   "execution_count": null,
   "metadata": {},
   "outputs": [],
   "source": [
    "# cela signifie que j'ai 27 attributs identiques pour chaque pays\n",
    "# "
   ]
  },
  {
   "cell_type": "markdown",
   "metadata": {
    "ExecuteTime": {
     "end_time": "2019-08-15T11:55:50.950661Z",
     "start_time": "2019-08-15T11:55:50.936880Z"
    }
   },
   "source": [
    "## 3. Data Features - first on one country or region, then extension\n",
    "- Datas from 1988 to 2019, year by year - idealy week per week !\n",
    "- As many datafiles as Country\n",
    "- Each file is a feature / date datafile\n",
    "- Global water at disposal for population (by Country)\n",
    "- Detail water at disposal (eventualy) : rivers (instant stream), dams (volume), underground (volume), etc.\n",
    "- Population count (by country)\n",
    "- GDP (gross domestic product or PIB or HDI human development index)\n",
    "- Usage related datas :\n",
    "- - average water consumption per inhabitant (by country)\n",
    "- - average energy consumption per inhabitant (by country) or water consumption for energy production\n",
    "- - eventualy, industrialisation rate or water use for industrie (by country)\n",
    "- - eventualy, agricultural rate or water use for agriculture (by country)"
   ]
  },
  {
   "cell_type": "code",
   "execution_count": null,
   "metadata": {},
   "outputs": [],
   "source": []
  },
  {
   "cell_type": "markdown",
   "metadata": {
    "ExecuteTime": {
     "end_time": "2019-08-15T12:02:33.861313Z",
     "start_time": "2019-08-15T12:02:33.849957Z"
    }
   },
   "source": [
    "## 4. Preprocessing\n",
    "- data formating : for exemple 1 dataset for 1 country with the year as column and features as rows\n",
    "- data cleaning\n",
    "- FAO EDA simple analysis (Exploratory Data Analysis) :\n",
    "- - https://www.kaggle.com/marcinjadwizyc/fao-simple-eda\n",
    "- - https://www.kaggle.com/hungnd11/exploring-the-fao-dataset\n",
    "- Hydrofunctions\n",
    "- - https://github.com/mroberge/hydrofunctions"
   ]
  },
  {
   "cell_type": "markdown",
   "metadata": {
    "ExecuteTime": {
     "end_time": "2019-08-15T12:03:56.260106Z",
     "start_time": "2019-08-15T12:03:56.255052Z"
    }
   },
   "source": [
    "## 5. Modeling\n",
    "- Statistics using Machine Learning\n",
    "- Prediction with time series or others"
   ]
  },
  {
   "cell_type": "markdown",
   "metadata": {
    "ExecuteTime": {
     "end_time": "2019-08-15T12:05:16.483751Z",
     "start_time": "2019-08-15T12:05:16.474553Z"
    }
   },
   "source": [
    "## 6. Restitution\n",
    "- Précontainérisation : fichier de variables de configuration multi-utilisateurs\n",
    "- - Requirement.txt\n",
    "- - launching file (an url file)\n",
    "- Map and curves restitution on actual and predictive water stress by country\n",
    "- Interactive web restitution"
   ]
  }
 ],
 "metadata": {
  "kernelspec": {
   "display_name": "Python 3",
   "language": "python",
   "name": "python3"
  },
  "language_info": {
   "codemirror_mode": {
    "name": "ipython",
    "version": 3
   },
   "file_extension": ".py",
   "mimetype": "text/x-python",
   "name": "python",
   "nbconvert_exporter": "python",
   "pygments_lexer": "ipython3",
   "version": "3.7.3"
  },
  "toc": {
   "base_numbering": 1,
   "nav_menu": {},
   "number_sections": true,
   "sideBar": true,
   "skip_h1_title": false,
   "title_cell": "Table of Contents",
   "title_sidebar": "Contents",
   "toc_cell": false,
   "toc_position": {
    "height": "calc(100% - 180px)",
    "left": "10px",
    "top": "150px",
    "width": "259.8px"
   },
   "toc_section_display": true,
   "toc_window_display": true
  }
 },
 "nbformat": 4,
 "nbformat_minor": 2
}
