{
 "cells": [
  {
   "cell_type": "markdown",
   "metadata": {
    "ExecuteTime": {
     "end_time": "2019-08-15T11:37:33.857841Z",
     "start_time": "2019-08-15T11:37:33.854400Z"
    }
   },
   "source": [
    "# WATER SCARCITY by country (rareté de l'eau)\n",
    "## with prediction of future situation\n",
    "## Target (objectif de prediction) : \n",
    "##    accessible drinking water per inhabitant"
   ]
  },
  {
   "cell_type": "markdown",
   "metadata": {
    "ExecuteTime": {
     "end_time": "2019-08-15T11:39:24.964412Z",
     "start_time": "2019-08-15T11:39:24.962113Z"
    }
   },
   "source": [
    "## 1. Scrapping"
   ]
  },
  {
   "cell_type": "markdown",
   "metadata": {},
   "source": [
    "- Starting Scrapping\n",
    "- Managing connexion shutdown, i.e. restarting loading at the same point\n",
    "- Random time scrapping in order to stay hidden\n",
    "- Manage 'my user agent' in order to scrap in 'browser mode' and not 'robot mode'\n",
    "- Sites à scrapper :\n",
    "- ---Consommation moyenne d'eau par habitant et par pays\n",
    "- - https://www.cieau.com/le-metier-de-leau/ressource-en-eau-eau-potable-eaux-usees/la-consommation-deau-domestique-est-elle-la-meme-a-travers-le-monde/\n",
    "- - https://fr.wikipedia.org/wiki/Consommation_d%27eau_domestique_par_pays\n",
    "- --- Consommation d'eau virtuelle\n",
    "- - https://www.consoglobe.com/eau-virtuelle-conflit-3120-cg\n",
    "- - https://www.consoglobe.com/eau-virtuelle-consommation-cachee-cg\n",
    "The idea with scrapping  is :\n",
    "- each scrapping is specific to one web site (html code for balises)\n",
    "- if web site is javascript encoded, you have to use a javascript interface to a 'false internet explorer (google or other)' , then send the 'html transformation' to BeautifulSoup"
   ]
  },
  {
   "cell_type": "markdown",
   "metadata": {
    "ExecuteTime": {
     "end_time": "2019-08-14T09:46:26.984616Z",
     "start_time": "2019-08-14T09:46:26.982534Z"
    }
   },
   "source": [
    "## 2. Ressources\n",
    "FAO and UNO sites are web accessing datas, directly or with 'wget' command\n",
    "- FAO http://www.fao.org/nr/water/aquastat/data/query/index.html\n",
    "- UNO https://population.un.org/wpp/Download/Standard/Population/\n",
    "- Population Mondiale par Pays ou Région (UNO)\n",
    "- Total Population per Country (FAO Aquastat)\n",
    "- Water disponibility per Country or Region (FAO Aquastat)\n",
    "- Water consumption per inhabitant, by Country or Region (FAO + divers documents moyennés)\n",
    "- [GDP per capita] = [Gross Domestic Product (GDP)]/[Total population]/1000  (FAO Aquastat)"
   ]
  },
  {
   "cell_type": "code",
   "execution_count": 2,
   "metadata": {
    "ExecuteTime": {
     "end_time": "2019-08-22T14:40:21.242288Z",
     "start_time": "2019-08-22T14:40:21.238998Z"
    }
   },
   "outputs": [],
   "source": [
    "import pandas as pd\n",
    "import numpy as np"
   ]
  },
  {
   "cell_type": "code",
   "execution_count": 20,
   "metadata": {
    "ExecuteTime": {
     "end_time": "2019-08-22T14:55:55.107596Z",
     "start_time": "2019-08-22T14:55:55.103593Z"
    }
   },
   "outputs": [],
   "source": [
    "pd.set_option('display.max_rows', 500)\n",
    "pd.set_option('display.max_columns', 8000)\n",
    "#pd.set_option('display.width', 1000)"
   ]
  },
  {
   "cell_type": "code",
   "execution_count": 3,
   "metadata": {
    "ExecuteTime": {
     "end_time": "2019-08-22T14:40:22.348905Z",
     "start_time": "2019-08-22T14:40:22.259438Z"
    }
   },
   "outputs": [],
   "source": [
    "dataf = pd.read_csv(\"../data/FAO_aquastat_flat_1958_2017.csv\")\n",
    "datac = pd.read_csv(\"../data/FAO_aquastat_tables_1958_2017.csv\")"
   ]
  },
  {
   "cell_type": "code",
   "execution_count": 4,
   "metadata": {
    "ExecuteTime": {
     "end_time": "2019-08-22T14:40:24.560213Z",
     "start_time": "2019-08-22T14:40:24.516663Z"
    },
    "scrolled": true
   },
   "outputs": [
    {
     "data": {
      "text/html": [
       "<div>\n",
       "<style scoped>\n",
       "    .dataframe tbody tr th:only-of-type {\n",
       "        vertical-align: middle;\n",
       "    }\n",
       "\n",
       "    .dataframe tbody tr th {\n",
       "        vertical-align: top;\n",
       "    }\n",
       "\n",
       "    .dataframe thead th {\n",
       "        text-align: right;\n",
       "    }\n",
       "</style>\n",
       "<table border=\"1\" class=\"dataframe\">\n",
       "  <thead>\n",
       "    <tr style=\"text-align: right;\">\n",
       "      <th></th>\n",
       "      <th>Area</th>\n",
       "      <th>Area Id</th>\n",
       "      <th>Variable Name</th>\n",
       "      <th>Variable Id</th>\n",
       "      <th>Year</th>\n",
       "      <th>Value</th>\n",
       "      <th>Symbol</th>\n",
       "      <th>Md</th>\n",
       "    </tr>\n",
       "  </thead>\n",
       "  <tbody>\n",
       "    <tr>\n",
       "      <th>Austria</th>\n",
       "      <td>11.0</td>\n",
       "      <td>Total population</td>\n",
       "      <td>4104.0</td>\n",
       "      <td>1962.0</td>\n",
       "      <td>7157.0</td>\n",
       "      <td>E</td>\n",
       "      <td>NaN</td>\n",
       "      <td>NaN</td>\n",
       "    </tr>\n",
       "    <tr>\n",
       "      <th>Austria</th>\n",
       "      <td>11.0</td>\n",
       "      <td>Total population</td>\n",
       "      <td>4104.0</td>\n",
       "      <td>1967.0</td>\n",
       "      <td>7397.0</td>\n",
       "      <td>E</td>\n",
       "      <td>NaN</td>\n",
       "      <td>NaN</td>\n",
       "    </tr>\n",
       "    <tr>\n",
       "      <th>Austria</th>\n",
       "      <td>11.0</td>\n",
       "      <td>Total population</td>\n",
       "      <td>4104.0</td>\n",
       "      <td>1972.0</td>\n",
       "      <td>7581.0</td>\n",
       "      <td>E</td>\n",
       "      <td>NaN</td>\n",
       "      <td>NaN</td>\n",
       "    </tr>\n",
       "    <tr>\n",
       "      <th>Austria</th>\n",
       "      <td>11.0</td>\n",
       "      <td>Total population</td>\n",
       "      <td>4104.0</td>\n",
       "      <td>1977.0</td>\n",
       "      <td>7637.0</td>\n",
       "      <td>E</td>\n",
       "      <td>NaN</td>\n",
       "      <td>NaN</td>\n",
       "    </tr>\n",
       "    <tr>\n",
       "      <th>Austria</th>\n",
       "      <td>11.0</td>\n",
       "      <td>Total population</td>\n",
       "      <td>4104.0</td>\n",
       "      <td>1982.0</td>\n",
       "      <td>7602.0</td>\n",
       "      <td>E</td>\n",
       "      <td>NaN</td>\n",
       "      <td>NaN</td>\n",
       "    </tr>\n",
       "  </tbody>\n",
       "</table>\n",
       "</div>"
      ],
      "text/plain": [
       "         Area           Area Id  Variable Name  Variable Id    Year Value  \\\n",
       "Austria  11.0  Total population         4104.0       1962.0  7157.0     E   \n",
       "Austria  11.0  Total population         4104.0       1967.0  7397.0     E   \n",
       "Austria  11.0  Total population         4104.0       1972.0  7581.0     E   \n",
       "Austria  11.0  Total population         4104.0       1977.0  7637.0     E   \n",
       "Austria  11.0  Total population         4104.0       1982.0  7602.0     E   \n",
       "\n",
       "        Symbol  Md  \n",
       "Austria    NaN NaN  \n",
       "Austria    NaN NaN  \n",
       "Austria    NaN NaN  \n",
       "Austria    NaN NaN  \n",
       "Austria    NaN NaN  "
      ]
     },
     "execution_count": 4,
     "metadata": {},
     "output_type": "execute_result"
    }
   ],
   "source": [
    "dataf.head()"
   ]
  },
  {
   "cell_type": "code",
   "execution_count": 13,
   "metadata": {
    "ExecuteTime": {
     "end_time": "2019-08-22T14:46:11.749900Z",
     "start_time": "2019-08-22T14:46:11.697808Z"
    },
    "scrolled": false
   },
   "outputs": [
    {
     "data": {
      "text/html": [
       "<div>\n",
       "<style scoped>\n",
       "    .dataframe tbody tr th:only-of-type {\n",
       "        vertical-align: middle;\n",
       "    }\n",
       "\n",
       "    .dataframe tbody tr th {\n",
       "        vertical-align: top;\n",
       "    }\n",
       "\n",
       "    .dataframe thead th {\n",
       "        text-align: right;\n",
       "    }\n",
       "</style>\n",
       "<table border=\"1\" class=\"dataframe\">\n",
       "  <thead>\n",
       "    <tr style=\"text-align: right;\">\n",
       "      <th></th>\n",
       "      <th>country</th>\n",
       "      <th>attribute</th>\n",
       "      <th>year</th>\n",
       "      <th>value</th>\n",
       "    </tr>\n",
       "  </thead>\n",
       "  <tbody>\n",
       "    <tr>\n",
       "      <th>0</th>\n",
       "      <td>Austria</td>\n",
       "      <td>Total population</td>\n",
       "      <td>1962.0</td>\n",
       "      <td>7157.0</td>\n",
       "    </tr>\n",
       "    <tr>\n",
       "      <th>1</th>\n",
       "      <td>Austria</td>\n",
       "      <td>Total population</td>\n",
       "      <td>1967.0</td>\n",
       "      <td>7397.0</td>\n",
       "    </tr>\n",
       "    <tr>\n",
       "      <th>2</th>\n",
       "      <td>Austria</td>\n",
       "      <td>Total population</td>\n",
       "      <td>1972.0</td>\n",
       "      <td>7581.0</td>\n",
       "    </tr>\n",
       "    <tr>\n",
       "      <th>3</th>\n",
       "      <td>Austria</td>\n",
       "      <td>Total population</td>\n",
       "      <td>1977.0</td>\n",
       "      <td>7637.0</td>\n",
       "    </tr>\n",
       "    <tr>\n",
       "      <th>4</th>\n",
       "      <td>Austria</td>\n",
       "      <td>Total population</td>\n",
       "      <td>1982.0</td>\n",
       "      <td>7602.0</td>\n",
       "    </tr>\n",
       "  </tbody>\n",
       "</table>\n",
       "</div>"
      ],
      "text/plain": [
       "   country         attribute    year   value\n",
       "0  Austria  Total population  1962.0  7157.0\n",
       "1  Austria  Total population  1967.0  7397.0\n",
       "2  Austria  Total population  1972.0  7581.0\n",
       "3  Austria  Total population  1977.0  7637.0\n",
       "4  Austria  Total population  1982.0  7602.0"
      ]
     },
     "execution_count": 13,
     "metadata": {},
     "output_type": "execute_result"
    }
   ],
   "source": [
    "dataf1 = dataf.copy()\n",
    "dataf1 = dataf1.reset_index()\n",
    "dataf1 = dataf1.rename(columns = {'index':'country', \n",
    "                                  'Area Id':'attribute',\n",
    "                                  'Variable Id' : 'year',\n",
    "                                  'Year' : 'value'})\n",
    "dataf1.drop(columns=['Area','Variable Name','Value','Symbol','Md'], inplace=True)\n",
    "dataf1.head()"
   ]
  },
  {
   "cell_type": "code",
   "execution_count": 14,
   "metadata": {
    "ExecuteTime": {
     "end_time": "2019-08-22T14:47:03.589634Z",
     "start_time": "2019-08-22T14:47:03.576570Z"
    }
   },
   "outputs": [
    {
     "name": "stdout",
     "output_type": "stream",
     "text": [
      "<class 'pandas.core.frame.DataFrame'>\n",
      "RangeIndex: 7140 entries, 0 to 7139\n",
      "Data columns (total 4 columns):\n",
      "country      7139 non-null object\n",
      "attribute    7071 non-null object\n",
      "year         7071 non-null float64\n",
      "value        7071 non-null float64\n",
      "dtypes: float64(2), object(2)\n",
      "memory usage: 223.2+ KB\n",
      "None\n",
      "country             United States of America\n",
      "attribute    Environmental Flow Requirements\n",
      "year                                    2017\n",
      "value                                   1491\n",
      "Name: 7070, dtype: object\n"
     ]
    }
   ],
   "source": [
    "print(dataf1.info())\n",
    "print(dataf1.iloc[7070])"
   ]
  },
  {
   "cell_type": "code",
   "execution_count": 21,
   "metadata": {
    "ExecuteTime": {
     "end_time": "2019-08-22T14:56:04.048856Z",
     "start_time": "2019-08-22T14:56:03.940166Z"
    },
    "scrolled": true
   },
   "outputs": [
    {
     "data": {
      "text/html": [
       "<div>\n",
       "<style scoped>\n",
       "    .dataframe tbody tr th:only-of-type {\n",
       "        vertical-align: middle;\n",
       "    }\n",
       "\n",
       "    .dataframe tbody tr th {\n",
       "        vertical-align: top;\n",
       "    }\n",
       "\n",
       "    .dataframe thead th {\n",
       "        text-align: right;\n",
       "    }\n",
       "</style>\n",
       "<table border=\"1\" class=\"dataframe\">\n",
       "  <thead>\n",
       "    <tr style=\"text-align: right;\">\n",
       "      <th></th>\n",
       "      <th>Unnamed: 0</th>\n",
       "      <th>Unnamed: 1</th>\n",
       "      <th>Unnamed: 2</th>\n",
       "      <th>1958-1962</th>\n",
       "      <th>Unnamed: 4</th>\n",
       "      <th>Unnamed: 5</th>\n",
       "      <th>Unnamed: 6</th>\n",
       "      <th>1963-1967</th>\n",
       "      <th>Unnamed: 8</th>\n",
       "      <th>Unnamed: 9</th>\n",
       "      <th>Unnamed: 10</th>\n",
       "      <th>1968-1972</th>\n",
       "      <th>Unnamed: 12</th>\n",
       "      <th>Unnamed: 13</th>\n",
       "      <th>Unnamed: 14</th>\n",
       "      <th>1973-1977</th>\n",
       "      <th>Unnamed: 16</th>\n",
       "      <th>Unnamed: 17</th>\n",
       "      <th>Unnamed: 18</th>\n",
       "      <th>1978-1982</th>\n",
       "      <th>Unnamed: 20</th>\n",
       "      <th>Unnamed: 21</th>\n",
       "      <th>Unnamed: 22</th>\n",
       "      <th>1983-1987</th>\n",
       "      <th>Unnamed: 24</th>\n",
       "      <th>Unnamed: 25</th>\n",
       "      <th>Unnamed: 26</th>\n",
       "      <th>1988-1992</th>\n",
       "      <th>Unnamed: 28</th>\n",
       "      <th>Unnamed: 29</th>\n",
       "      <th>Unnamed: 30</th>\n",
       "      <th>1993-1997</th>\n",
       "      <th>Unnamed: 32</th>\n",
       "      <th>Unnamed: 33</th>\n",
       "      <th>Unnamed: 34</th>\n",
       "      <th>1998-2002</th>\n",
       "      <th>Unnamed: 36</th>\n",
       "      <th>Unnamed: 37</th>\n",
       "      <th>Unnamed: 38</th>\n",
       "      <th>2003-2007</th>\n",
       "      <th>Unnamed: 40</th>\n",
       "      <th>Unnamed: 41</th>\n",
       "      <th>Unnamed: 42</th>\n",
       "      <th>2008-2012</th>\n",
       "      <th>Unnamed: 44</th>\n",
       "      <th>Unnamed: 45</th>\n",
       "      <th>Unnamed: 46</th>\n",
       "      <th>2013-2017</th>\n",
       "      <th>Unnamed: 48</th>\n",
       "      <th>Unnamed: 49</th>\n",
       "    </tr>\n",
       "  </thead>\n",
       "  <tbody>\n",
       "    <tr>\n",
       "      <th>0</th>\n",
       "      <td>Austria</td>\n",
       "      <td>Total population (1000 inhab)</td>\n",
       "      <td>1962.0</td>\n",
       "      <td>7157.0</td>\n",
       "      <td>E</td>\n",
       "      <td>NaN</td>\n",
       "      <td>1967.0</td>\n",
       "      <td>7397.0</td>\n",
       "      <td>E</td>\n",
       "      <td>NaN</td>\n",
       "      <td>1972.0</td>\n",
       "      <td>7581.0</td>\n",
       "      <td>E</td>\n",
       "      <td>NaN</td>\n",
       "      <td>1977.0</td>\n",
       "      <td>7637.0</td>\n",
       "      <td>E</td>\n",
       "      <td>NaN</td>\n",
       "      <td>1982.0</td>\n",
       "      <td>7602.0</td>\n",
       "      <td>E</td>\n",
       "      <td>NaN</td>\n",
       "      <td>1987.0</td>\n",
       "      <td>7639.0</td>\n",
       "      <td>E</td>\n",
       "      <td>NaN</td>\n",
       "      <td>1992.0</td>\n",
       "      <td>7831.0</td>\n",
       "      <td>E</td>\n",
       "      <td>NaN</td>\n",
       "      <td>1997.0</td>\n",
       "      <td>8033.0</td>\n",
       "      <td>E</td>\n",
       "      <td>NaN</td>\n",
       "      <td>2002.0</td>\n",
       "      <td>8134.0</td>\n",
       "      <td>E</td>\n",
       "      <td>NaN</td>\n",
       "      <td>2007.0</td>\n",
       "      <td>8312.0</td>\n",
       "      <td>E</td>\n",
       "      <td>NaN</td>\n",
       "      <td>2012.0</td>\n",
       "      <td>8518.0</td>\n",
       "      <td>E</td>\n",
       "      <td>NaN</td>\n",
       "      <td>2017.0</td>\n",
       "      <td>8735.0</td>\n",
       "      <td>E</td>\n",
       "      <td>NaN</td>\n",
       "    </tr>\n",
       "    <tr>\n",
       "      <th>1</th>\n",
       "      <td>Austria</td>\n",
       "      <td>Rural population (1000 inhab)</td>\n",
       "      <td>1962.0</td>\n",
       "      <td>2527.0</td>\n",
       "      <td>E</td>\n",
       "      <td>NaN</td>\n",
       "      <td>1967.0</td>\n",
       "      <td>2596.0</td>\n",
       "      <td>E</td>\n",
       "      <td>NaN</td>\n",
       "      <td>1972.0</td>\n",
       "      <td>2644.0</td>\n",
       "      <td>E</td>\n",
       "      <td>NaN</td>\n",
       "      <td>1977.0</td>\n",
       "      <td>2667.0</td>\n",
       "      <td>E</td>\n",
       "      <td>NaN</td>\n",
       "      <td>1982.0</td>\n",
       "      <td>2660.0</td>\n",
       "      <td>E</td>\n",
       "      <td>NaN</td>\n",
       "      <td>1987.0</td>\n",
       "      <td>2655.0</td>\n",
       "      <td>E</td>\n",
       "      <td>NaN</td>\n",
       "      <td>1992.0</td>\n",
       "      <td>2700.0</td>\n",
       "      <td>E</td>\n",
       "      <td>NaN</td>\n",
       "      <td>1997.0</td>\n",
       "      <td>2760.0</td>\n",
       "      <td>E</td>\n",
       "      <td>NaN</td>\n",
       "      <td>2002.0</td>\n",
       "      <td>2809.0</td>\n",
       "      <td>E</td>\n",
       "      <td>NaN</td>\n",
       "      <td>2007.0</td>\n",
       "      <td>2840.0</td>\n",
       "      <td>E</td>\n",
       "      <td>NaN</td>\n",
       "      <td>2012.0</td>\n",
       "      <td>2943.0</td>\n",
       "      <td>E</td>\n",
       "      <td>NaN</td>\n",
       "      <td>2017.0</td>\n",
       "      <td>3036.0</td>\n",
       "      <td>E</td>\n",
       "      <td>NaN</td>\n",
       "    </tr>\n",
       "    <tr>\n",
       "      <th>2</th>\n",
       "      <td>Austria</td>\n",
       "      <td>Urban population (1000 inhab)</td>\n",
       "      <td>1962.0</td>\n",
       "      <td>4630.0</td>\n",
       "      <td>E</td>\n",
       "      <td>NaN</td>\n",
       "      <td>1967.0</td>\n",
       "      <td>4801.0</td>\n",
       "      <td>E</td>\n",
       "      <td>NaN</td>\n",
       "      <td>1972.0</td>\n",
       "      <td>4937.0</td>\n",
       "      <td>E</td>\n",
       "      <td>NaN</td>\n",
       "      <td>1977.0</td>\n",
       "      <td>4970.0</td>\n",
       "      <td>E</td>\n",
       "      <td>NaN</td>\n",
       "      <td>1982.0</td>\n",
       "      <td>4942.0</td>\n",
       "      <td>E</td>\n",
       "      <td>NaN</td>\n",
       "      <td>1987.0</td>\n",
       "      <td>4984.0</td>\n",
       "      <td>E</td>\n",
       "      <td>NaN</td>\n",
       "      <td>1992.0</td>\n",
       "      <td>5131.0</td>\n",
       "      <td>E</td>\n",
       "      <td>NaN</td>\n",
       "      <td>1997.0</td>\n",
       "      <td>5273.0</td>\n",
       "      <td>E</td>\n",
       "      <td>NaN</td>\n",
       "      <td>2002.0</td>\n",
       "      <td>5325.0</td>\n",
       "      <td>E</td>\n",
       "      <td>NaN</td>\n",
       "      <td>2007.0</td>\n",
       "      <td>5472.0</td>\n",
       "      <td>E</td>\n",
       "      <td>NaN</td>\n",
       "      <td>2012.0</td>\n",
       "      <td>5575.0</td>\n",
       "      <td>E</td>\n",
       "      <td>NaN</td>\n",
       "      <td>2017.0</td>\n",
       "      <td>5699.0</td>\n",
       "      <td>E</td>\n",
       "      <td>NaN</td>\n",
       "    </tr>\n",
       "    <tr>\n",
       "      <th>3</th>\n",
       "      <td>Austria</td>\n",
       "      <td>Population density (inhab/km2)</td>\n",
       "      <td>1962.0</td>\n",
       "      <td>85.32</td>\n",
       "      <td>E</td>\n",
       "      <td>NaN</td>\n",
       "      <td>1967.0</td>\n",
       "      <td>88.19</td>\n",
       "      <td>E</td>\n",
       "      <td>NaN</td>\n",
       "      <td>1972.0</td>\n",
       "      <td>90.38</td>\n",
       "      <td>E</td>\n",
       "      <td>NaN</td>\n",
       "      <td>1977.0</td>\n",
       "      <td>91.05</td>\n",
       "      <td>E</td>\n",
       "      <td>NaN</td>\n",
       "      <td>1982.0</td>\n",
       "      <td>90.63</td>\n",
       "      <td>E</td>\n",
       "      <td>NaN</td>\n",
       "      <td>1987.0</td>\n",
       "      <td>91.07</td>\n",
       "      <td>E</td>\n",
       "      <td>NaN</td>\n",
       "      <td>1992.0</td>\n",
       "      <td>93.36</td>\n",
       "      <td>E</td>\n",
       "      <td>NaN</td>\n",
       "      <td>1997.0</td>\n",
       "      <td>95.77</td>\n",
       "      <td>E</td>\n",
       "      <td>NaN</td>\n",
       "      <td>2002.0</td>\n",
       "      <td>96.97</td>\n",
       "      <td>E</td>\n",
       "      <td>NaN</td>\n",
       "      <td>2007.0</td>\n",
       "      <td>99.09</td>\n",
       "      <td>E</td>\n",
       "      <td>NaN</td>\n",
       "      <td>2012.0</td>\n",
       "      <td>101.5</td>\n",
       "      <td>E</td>\n",
       "      <td>NaN</td>\n",
       "      <td>2017.0</td>\n",
       "      <td>104.1</td>\n",
       "      <td>E</td>\n",
       "      <td>NaN</td>\n",
       "    </tr>\n",
       "    <tr>\n",
       "      <th>4</th>\n",
       "      <td>Austria</td>\n",
       "      <td>Gross Domestic Product (GDP) (current US$)</td>\n",
       "      <td>1962.0</td>\n",
       "      <td>7.75611021E9</td>\n",
       "      <td>E</td>\n",
       "      <td>NaN</td>\n",
       "      <td>1967.0</td>\n",
       "      <td>1.1579431669E10</td>\n",
       "      <td>E</td>\n",
       "      <td>NaN</td>\n",
       "      <td>1972.0</td>\n",
       "      <td>2.2006470861E10</td>\n",
       "      <td>E</td>\n",
       "      <td>NaN</td>\n",
       "      <td>1977.0</td>\n",
       "      <td>5.142158563E10</td>\n",
       "      <td>E</td>\n",
       "      <td>NaN</td>\n",
       "      <td>1982.0</td>\n",
       "      <td>7.1103585384E10</td>\n",
       "      <td>E</td>\n",
       "      <td>NaN</td>\n",
       "      <td>1987.0</td>\n",
       "      <td>1.24E11</td>\n",
       "      <td>E</td>\n",
       "      <td>NaN</td>\n",
       "      <td>1992.0</td>\n",
       "      <td>1.95E11</td>\n",
       "      <td>E</td>\n",
       "      <td>NaN</td>\n",
       "      <td>1997.0</td>\n",
       "      <td>2.12E11</td>\n",
       "      <td>E</td>\n",
       "      <td>NaN</td>\n",
       "      <td>2002.0</td>\n",
       "      <td>2.13E11</td>\n",
       "      <td>E</td>\n",
       "      <td>NaN</td>\n",
       "      <td>2007.0</td>\n",
       "      <td>3.86E11</td>\n",
       "      <td>E</td>\n",
       "      <td>NaN</td>\n",
       "      <td>2012.0</td>\n",
       "      <td>4.07E11</td>\n",
       "      <td>E</td>\n",
       "      <td>NaN</td>\n",
       "      <td>2015.0</td>\n",
       "      <td>3.74E11</td>\n",
       "      <td>E</td>\n",
       "      <td>NaN</td>\n",
       "    </tr>\n",
       "  </tbody>\n",
       "</table>\n",
       "</div>"
      ],
      "text/plain": [
       "  Unnamed: 0                                  Unnamed: 1  Unnamed: 2  \\\n",
       "0    Austria               Total population (1000 inhab)      1962.0   \n",
       "1    Austria               Rural population (1000 inhab)      1962.0   \n",
       "2    Austria               Urban population (1000 inhab)      1962.0   \n",
       "3    Austria              Population density (inhab/km2)      1962.0   \n",
       "4    Austria  Gross Domestic Product (GDP) (current US$)      1962.0   \n",
       "\n",
       "      1958-1962 Unnamed: 4 Unnamed: 5  Unnamed: 6        1963-1967 Unnamed: 8  \\\n",
       "0        7157.0          E        NaN      1967.0           7397.0          E   \n",
       "1        2527.0          E        NaN      1967.0           2596.0          E   \n",
       "2        4630.0          E        NaN      1967.0           4801.0          E   \n",
       "3         85.32          E        NaN      1967.0            88.19          E   \n",
       "4  7.75611021E9          E        NaN      1967.0  1.1579431669E10          E   \n",
       "\n",
       "  Unnamed: 9  Unnamed: 10        1968-1972 Unnamed: 12 Unnamed: 13  \\\n",
       "0        NaN       1972.0           7581.0           E         NaN   \n",
       "1        NaN       1972.0           2644.0           E         NaN   \n",
       "2        NaN       1972.0           4937.0           E         NaN   \n",
       "3        NaN       1972.0            90.38           E         NaN   \n",
       "4        NaN       1972.0  2.2006470861E10           E         NaN   \n",
       "\n",
       "   Unnamed: 14       1973-1977 Unnamed: 16 Unnamed: 17  Unnamed: 18  \\\n",
       "0       1977.0          7637.0           E         NaN       1982.0   \n",
       "1       1977.0          2667.0           E         NaN       1982.0   \n",
       "2       1977.0          4970.0           E         NaN       1982.0   \n",
       "3       1977.0           91.05           E         NaN       1982.0   \n",
       "4       1977.0  5.142158563E10           E         NaN       1982.0   \n",
       "\n",
       "         1978-1982 Unnamed: 20 Unnamed: 21  Unnamed: 22 1983-1987 Unnamed: 24  \\\n",
       "0           7602.0           E         NaN       1987.0    7639.0           E   \n",
       "1           2660.0           E         NaN       1987.0    2655.0           E   \n",
       "2           4942.0           E         NaN       1987.0    4984.0           E   \n",
       "3            90.63           E         NaN       1987.0     91.07           E   \n",
       "4  7.1103585384E10           E         NaN       1987.0   1.24E11           E   \n",
       "\n",
       "  Unnamed: 25  Unnamed: 26 1988-1992 Unnamed: 28 Unnamed: 29  Unnamed: 30  \\\n",
       "0         NaN       1992.0    7831.0           E         NaN       1997.0   \n",
       "1         NaN       1992.0    2700.0           E         NaN       1997.0   \n",
       "2         NaN       1992.0    5131.0           E         NaN       1997.0   \n",
       "3         NaN       1992.0     93.36           E         NaN       1997.0   \n",
       "4         NaN       1992.0   1.95E11           E         NaN       1997.0   \n",
       "\n",
       "  1993-1997 Unnamed: 32 Unnamed: 33  Unnamed: 34 1998-2002 Unnamed: 36  \\\n",
       "0    8033.0           E         NaN       2002.0    8134.0           E   \n",
       "1    2760.0           E         NaN       2002.0    2809.0           E   \n",
       "2    5273.0           E         NaN       2002.0    5325.0           E   \n",
       "3     95.77           E         NaN       2002.0     96.97           E   \n",
       "4   2.12E11           E         NaN       2002.0   2.13E11           E   \n",
       "\n",
       "  Unnamed: 37  Unnamed: 38 2003-2007 Unnamed: 40 Unnamed: 41  Unnamed: 42  \\\n",
       "0         NaN       2007.0    8312.0           E         NaN       2012.0   \n",
       "1         NaN       2007.0    2840.0           E         NaN       2012.0   \n",
       "2         NaN       2007.0    5472.0           E         NaN       2012.0   \n",
       "3         NaN       2007.0     99.09           E         NaN       2012.0   \n",
       "4         NaN       2007.0   3.86E11           E         NaN       2012.0   \n",
       "\n",
       "  2008-2012 Unnamed: 44 Unnamed: 45  Unnamed: 46 2013-2017 Unnamed: 48  \\\n",
       "0    8518.0           E         NaN       2017.0    8735.0           E   \n",
       "1    2943.0           E         NaN       2017.0    3036.0           E   \n",
       "2    5575.0           E         NaN       2017.0    5699.0           E   \n",
       "3     101.5           E         NaN       2017.0     104.1           E   \n",
       "4   4.07E11           E         NaN       2015.0   3.74E11           E   \n",
       "\n",
       "   Unnamed: 49  \n",
       "0          NaN  \n",
       "1          NaN  \n",
       "2          NaN  \n",
       "3          NaN  \n",
       "4          NaN  "
      ]
     },
     "execution_count": 21,
     "metadata": {},
     "output_type": "execute_result"
    }
   ],
   "source": [
    "datac.head()"
   ]
  },
  {
   "cell_type": "code",
   "execution_count": 23,
   "metadata": {
    "ExecuteTime": {
     "end_time": "2019-08-22T15:00:22.953234Z",
     "start_time": "2019-08-22T15:00:22.930516Z"
    },
    "scrolled": true
   },
   "outputs": [
    {
     "name": "stdout",
     "output_type": "stream",
     "text": [
      "<class 'pandas.core.frame.DataFrame'>\n",
      "RangeIndex: 935 entries, 0 to 934\n",
      "Data columns (total 50 columns):\n",
      "country        905 non-null object\n",
      "attribute      837 non-null object\n",
      "year1          462 non-null float64\n",
      "1958-1962      492 non-null object\n",
      "Unnamed: 4     337 non-null object\n",
      "Unnamed: 5     5 non-null object\n",
      "year2          462 non-null float64\n",
      "1963-1967      492 non-null object\n",
      "Unnamed: 8     337 non-null object\n",
      "Unnamed: 9     5 non-null object\n",
      "year3          503 non-null float64\n",
      "1968-1972      533 non-null object\n",
      "Unnamed: 12    368 non-null object\n",
      "Unnamed: 13    5 non-null object\n",
      "year4          505 non-null float64\n",
      "1973-1977      535 non-null object\n",
      "Unnamed: 16    375 non-null object\n",
      "Unnamed: 17    5 non-null object\n",
      "year5          535 non-null float64\n",
      "1978-1982      565 non-null object\n",
      "Unnamed: 20    397 non-null object\n",
      "Unnamed: 21    5 non-null object\n",
      "year6          535 non-null float64\n",
      "1983-1987      565 non-null object\n",
      "Unnamed: 24    399 non-null object\n",
      "Unnamed: 25    5 non-null object\n",
      "year7          653 non-null float64\n",
      "1988-1992      683 non-null object\n",
      "Unnamed: 28    505 non-null object\n",
      "Unnamed: 29    6 non-null object\n",
      "year8          649 non-null float64\n",
      "1993-1997      679 non-null object\n",
      "Unnamed: 32    496 non-null object\n",
      "Unnamed: 33    6 non-null object\n",
      "year9          699 non-null float64\n",
      "1998-2002      729 non-null object\n",
      "Unnamed: 36    557 non-null object\n",
      "Unnamed: 37    6 non-null object\n",
      "year10         682 non-null float64\n",
      "2003-2007      712 non-null object\n",
      "Unnamed: 40    536 non-null object\n",
      "Unnamed: 41    6 non-null object\n",
      "year11         718 non-null float64\n",
      "2008-2012      748 non-null object\n",
      "Unnamed: 44    563 non-null object\n",
      "Unnamed: 45    6 non-null object\n",
      "year12         668 non-null float64\n",
      "2013-2017      698 non-null object\n",
      "Unnamed: 48    486 non-null object\n",
      "Unnamed: 49    0 non-null float64\n",
      "dtypes: float64(13), object(37)\n",
      "memory usage: 365.4+ KB\n"
     ]
    }
   ],
   "source": [
    "datac = datac.rename(columns = {'Unnamed: 0':'country', \n",
    "                                'Unnamed: 1':'attribute',\n",
    "                                'Unnamed: 2':'year1',\n",
    "                                'Unnamed: 6':'year2',\n",
    "                                'Unnamed: 10':'year3',\n",
    "                                'Unnamed: 14':'year4',\n",
    "                                'Unnamed: 18':'year5',\n",
    "                                'Unnamed: 22':'year6',\n",
    "                                'Unnamed: 26':'year7',\n",
    "                                'Unnamed: 30':'year8',                               \n",
    "                                'Unnamed: 34':'year9',\n",
    "                                'Unnamed: 38':'year10',\n",
    "                                'Unnamed: 42':'year11',\n",
    "                                'Unnamed: 46':'year12'\n",
    "                               })\n",
    "datac.info()"
   ]
  },
  {
   "cell_type": "code",
   "execution_count": 24,
   "metadata": {
    "ExecuteTime": {
     "end_time": "2019-08-22T15:00:39.548148Z",
     "start_time": "2019-08-22T15:00:39.541845Z"
    },
    "scrolled": false
   },
   "outputs": [
    {
     "data": {
      "text/plain": [
       "Index(['country', 'attribute', 'year1', '1958-1962', 'Unnamed: 4',\n",
       "       'Unnamed: 5', 'year2', '1963-1967', 'Unnamed: 8', 'Unnamed: 9', 'year3',\n",
       "       '1968-1972', 'Unnamed: 12', 'Unnamed: 13', 'year4', '1973-1977',\n",
       "       'Unnamed: 16', 'Unnamed: 17', 'year5', '1978-1982', 'Unnamed: 20',\n",
       "       'Unnamed: 21', 'year6', '1983-1987', 'Unnamed: 24', 'Unnamed: 25',\n",
       "       'year7', '1988-1992', 'Unnamed: 28', 'Unnamed: 29', 'year8',\n",
       "       '1993-1997', 'Unnamed: 32', 'Unnamed: 33', 'year9', '1998-2002',\n",
       "       'Unnamed: 36', 'Unnamed: 37', 'year10', '2003-2007', 'Unnamed: 40',\n",
       "       'Unnamed: 41', 'year11', '2008-2012', 'Unnamed: 44', 'Unnamed: 45',\n",
       "       'year12', '2013-2017', 'Unnamed: 48', 'Unnamed: 49'],\n",
       "      dtype='object')"
      ]
     },
     "execution_count": 24,
     "metadata": {},
     "output_type": "execute_result"
    }
   ],
   "source": [
    "datac.columns"
   ]
  },
  {
   "cell_type": "code",
   "execution_count": 25,
   "metadata": {
    "ExecuteTime": {
     "end_time": "2019-08-22T15:01:10.756462Z",
     "start_time": "2019-08-22T15:01:10.628448Z"
    }
   },
   "outputs": [],
   "source": [
    "datac1 = datac.copy()\n",
    "for v in range(50) :\n",
    "    try :\n",
    "        datac1.drop(columns=f'Unnamed: {v}', inplace=True)\n",
    "    except : \n",
    "        pass"
   ]
  },
  {
   "cell_type": "code",
   "execution_count": 26,
   "metadata": {
    "ExecuteTime": {
     "end_time": "2019-08-22T15:01:14.151801Z",
     "start_time": "2019-08-22T15:01:14.147101Z"
    }
   },
   "outputs": [
    {
     "data": {
      "text/plain": [
       "Index(['country', 'attribute', 'year1', '1958-1962', 'year2', '1963-1967',\n",
       "       'year3', '1968-1972', 'year4', '1973-1977', 'year5', '1978-1982',\n",
       "       'year6', '1983-1987', 'year7', '1988-1992', 'year8', '1993-1997',\n",
       "       'year9', '1998-2002', 'year10', '2003-2007', 'year11', '2008-2012',\n",
       "       'year12', '2013-2017'],\n",
       "      dtype='object')"
      ]
     },
     "execution_count": 26,
     "metadata": {},
     "output_type": "execute_result"
    }
   ],
   "source": [
    "datac1.columns"
   ]
  },
  {
   "cell_type": "code",
   "execution_count": 27,
   "metadata": {
    "ExecuteTime": {
     "end_time": "2019-08-22T15:02:12.838884Z",
     "start_time": "2019-08-22T15:02:12.832327Z"
    }
   },
   "outputs": [
    {
     "name": "stdout",
     "output_type": "stream",
     "text": [
      "dataf1 nb rows and columns\n",
      "7140 4\n",
      "datac1 nb rows and columns\n",
      "935 26\n"
     ]
    }
   ],
   "source": [
    "print('dataf1 nb rows and columns')\n",
    "print(dataf1.shape[0],dataf1.shape[1])\n",
    "print('datac1 nb rows and columns')\n",
    "print(datac1.shape[0],datac1.shape[1])"
   ]
  },
  {
   "cell_type": "code",
   "execution_count": 44,
   "metadata": {
    "ExecuteTime": {
     "end_time": "2019-08-22T15:06:28.381896Z",
     "start_time": "2019-08-22T15:06:28.377488Z"
    }
   },
   "outputs": [
    {
     "data": {
      "text/plain": [
       "country             United States of America\n",
       "attribute    Environmental Flow Requirements\n",
       "year                                    2017\n",
       "value                                   1491\n",
       "Name: 7070, dtype: object"
      ]
     },
     "execution_count": 44,
     "metadata": {},
     "output_type": "execute_result"
    }
   ],
   "source": [
    "dataf1.iloc[7070] # C'est le dernier champ intéressant, après ce sont les données du fichier"
   ]
  },
  {
   "cell_type": "code",
   "execution_count": 45,
   "metadata": {
    "ExecuteTime": {
     "end_time": "2019-08-22T15:07:24.974076Z",
     "start_time": "2019-08-22T15:07:24.954932Z"
    }
   },
   "outputs": [
    {
     "name": "stdout",
     "output_type": "stream",
     "text": [
      "<class 'pandas.core.frame.DataFrame'>\n",
      "Int64Index: 7071 entries, 0 to 7070\n",
      "Data columns (total 4 columns):\n",
      "country      7071 non-null object\n",
      "attribute    7071 non-null object\n",
      "year         7071 non-null float64\n",
      "value        7071 non-null float64\n",
      "dtypes: float64(2), object(2)\n",
      "memory usage: 276.2+ KB\n"
     ]
    }
   ],
   "source": [
    "dataf2 = dataf1[dataf1.index < 7071]\n",
    "dataf2.info()"
   ]
  },
  {
   "cell_type": "code",
   "execution_count": 30,
   "metadata": {
    "ExecuteTime": {
     "end_time": "2019-08-22T15:02:39.344889Z",
     "start_time": "2019-08-22T15:02:39.336503Z"
    },
    "collapsed": true
   },
   "outputs": [
    {
     "data": {
      "text/plain": [
       "country                            United States of America\n",
       "attribute    Environmental Flow Requirements (10^9 m3/year)\n",
       "year1                                                  1962\n",
       "1958-1962                                            1491.0\n",
       "year2                                                  1967\n",
       "1963-1967                                            1491.0\n",
       "year3                                                  1972\n",
       "1968-1972                                            1491.0\n",
       "year4                                                  1977\n",
       "1973-1977                                            1491.0\n",
       "year5                                                  1982\n",
       "1978-1982                                            1491.0\n",
       "year6                                                  1987\n",
       "1983-1987                                            1491.0\n",
       "year7                                                  1992\n",
       "1988-1992                                            1491.0\n",
       "year8                                                  1997\n",
       "1993-1997                                            1491.0\n",
       "year9                                                  2002\n",
       "1998-2002                                            1491.0\n",
       "year10                                                 2007\n",
       "2003-2007                                            1491.0\n",
       "year11                                                 2012\n",
       "2008-2012                                            1491.0\n",
       "year12                                                 2017\n",
       "2013-2017                                            1491.0\n",
       "Name: 866, dtype: object"
      ]
     },
     "execution_count": 30,
     "metadata": {},
     "output_type": "execute_result"
    }
   ],
   "source": [
    "datac1.iloc[866]  # a partir de l'index 867 ce ne sont plus que des infos inutiles sur le fichier lui-même"
   ]
  },
  {
   "cell_type": "code",
   "execution_count": 46,
   "metadata": {
    "ExecuteTime": {
     "end_time": "2019-08-22T15:07:36.094829Z",
     "start_time": "2019-08-22T15:07:36.083627Z"
    },
    "scrolled": true
   },
   "outputs": [
    {
     "name": "stdout",
     "output_type": "stream",
     "text": [
      "<class 'pandas.core.frame.DataFrame'>\n",
      "Int64Index: 867 entries, 0 to 866\n",
      "Data columns (total 26 columns):\n",
      "country      837 non-null object\n",
      "attribute    837 non-null object\n",
      "year1        462 non-null float64\n",
      "1958-1962    492 non-null object\n",
      "year2        462 non-null float64\n",
      "1963-1967    492 non-null object\n",
      "year3        503 non-null float64\n",
      "1968-1972    533 non-null object\n",
      "year4        505 non-null float64\n",
      "1973-1977    535 non-null object\n",
      "year5        535 non-null float64\n",
      "1978-1982    565 non-null object\n",
      "year6        535 non-null float64\n",
      "1983-1987    565 non-null object\n",
      "year7        653 non-null float64\n",
      "1988-1992    683 non-null object\n",
      "year8        649 non-null float64\n",
      "1993-1997    679 non-null object\n",
      "year9        699 non-null float64\n",
      "1998-2002    729 non-null object\n",
      "year10       682 non-null float64\n",
      "2003-2007    712 non-null object\n",
      "year11       718 non-null float64\n",
      "2008-2012    748 non-null object\n",
      "year12       668 non-null float64\n",
      "2013-2017    698 non-null object\n",
      "dtypes: float64(12), object(14)\n",
      "memory usage: 182.9+ KB\n"
     ]
    }
   ],
   "source": [
    "datac2 = datac1[datac1.index < 867]\n",
    "datac2.info()"
   ]
  },
  {
   "cell_type": "markdown",
   "metadata": {
    "ExecuteTime": {
     "end_time": "2019-08-22T15:08:20.712154Z",
     "start_time": "2019-08-22T15:08:20.706882Z"
    }
   },
   "source": [
    "### Il faut maintenant concaténer les deux fichiers dataf2 et datac2 + le scrapping de Zhefeng"
   ]
  },
  {
   "cell_type": "code",
   "execution_count": null,
   "metadata": {},
   "outputs": [],
   "source": []
  },
  {
   "cell_type": "markdown",
   "metadata": {
    "ExecuteTime": {
     "end_time": "2019-08-15T11:55:50.950661Z",
     "start_time": "2019-08-15T11:55:50.936880Z"
    }
   },
   "source": [
    "## 3. Data Features - first on one country or region, then extension\n",
    "- Datas from 1988 to 2019, year by year - idealy week per week !\n",
    "- As many datafiles as Country\n",
    "- Each file is a feature / date datafile\n",
    "- Global water at disposal for population (by Country)\n",
    "- Detail water at disposal (eventualy) : rivers (instant stream), dams (volume), underground (volume), etc.\n",
    "- Population count (by country)\n",
    "- GDP (gross domestic product or PIB or HDI human development index)\n",
    "- Usage related datas :\n",
    "- - average water consumption per inhabitant (by country)\n",
    "- - average energy consumption per inhabitant (by country) or water consumption for energy production\n",
    "- - eventualy, industrialisation rate or water use for industrie (by country)\n",
    "- - eventualy, agricultural rate or water use for agriculture (by country)"
   ]
  },
  {
   "cell_type": "markdown",
   "metadata": {
    "ExecuteTime": {
     "end_time": "2019-08-15T12:02:33.861313Z",
     "start_time": "2019-08-15T12:02:33.849957Z"
    }
   },
   "source": [
    "## 4. Preprocessing\n",
    "- data formating : for exemple 1 dataset for 1 country with the year as column and features as rows\n",
    "- data cleaning\n",
    "- FAO EDA simple analysis (Exploratory Data Analysis) :\n",
    "- - https://www.kaggle.com/marcinjadwizyc/fao-simple-eda\n",
    "- - https://www.kaggle.com/hungnd11/exploring-the-fao-dataset\n",
    "- Hydrofunctions\n",
    "- - https://github.com/mroberge/hydrofunctions"
   ]
  },
  {
   "cell_type": "markdown",
   "metadata": {
    "ExecuteTime": {
     "end_time": "2019-08-15T12:03:56.260106Z",
     "start_time": "2019-08-15T12:03:56.255052Z"
    }
   },
   "source": [
    "## 5. Modeling\n",
    "- Statistics using Machine Learning\n",
    "- Prediction with time series or others"
   ]
  },
  {
   "cell_type": "markdown",
   "metadata": {
    "ExecuteTime": {
     "end_time": "2019-08-15T12:05:16.483751Z",
     "start_time": "2019-08-15T12:05:16.474553Z"
    }
   },
   "source": [
    "## 6. Restitution\n",
    "- Précontainérisation : fichier de variables de configuration multi-utilisateurs\n",
    "- - Requirement.txt\n",
    "- - launching file (an url file)\n",
    "- Map and curves restitution on actual and predictive water stress by country\n",
    "- Interactive web restitution"
   ]
  }
 ],
 "metadata": {
  "kernelspec": {
   "display_name": "Python 3",
   "language": "python",
   "name": "python3"
  },
  "language_info": {
   "codemirror_mode": {
    "name": "ipython",
    "version": 3
   },
   "file_extension": ".py",
   "mimetype": "text/x-python",
   "name": "python",
   "nbconvert_exporter": "python",
   "pygments_lexer": "ipython3",
   "version": "3.7.3"
  }
 },
 "nbformat": 4,
 "nbformat_minor": 2
}
